{
 "cells": [
  {
   "cell_type": "markdown",
   "metadata": {},
   "source": [
    "# Logistic Regression with Pytorch\n",
    "\n",
    "Allright, everyone. Let's go ahead and start doing things. We will start with a brief review, so that we are all on the same page.\n",
    "\n",
    "## Review: Logistic Regression with Scikit-Learn\n",
    "\n",
    "If you have reached this point, you probably know by heart how to define a Logistic Regression pipeline in Scikit Learn:\n"
   ]
  },
  {
   "cell_type": "code",
   "execution_count": 6,
   "metadata": {},
   "outputs": [],
   "source": [
    "from sklearn.feature_extraction.text import CountVectorizer\n",
    "from sklearn.linear_model import LogisticRegression\n",
    "from sklearn.pipeline import Pipeline\n",
    "\n",
    "vectorizer = CountVectorizer(binary=True)\n",
    "classifier = LogisticRegression()\n",
    "pipeline = Pipeline([\n",
    "  (\"vectorizer\", vectorizer),\n",
    "  (\"classifier\", classifier)\n",
    "])"
   ]
  },
  {
   "cell_type": "markdown",
   "metadata": {},
   "source": [
    "Remember that when we call `pipeline.fit()`, we first fit the vectorizer and then, with the results, we fit the classifier. So, these two methods for training our model are absolutely equivalent:"
   ]
  },
  {
   "cell_type": "code",
   "execution_count": 7,
   "metadata": {},
   "outputs": [],
   "source": [
    "def train_the_pipeline(pipeline, X_train, y_train):\n",
    "    pipeline.fit(X_train, y_train)\n",
    "    return pipeline\n",
    "\n",
    "def train_each_part_separately(vectorizer, classifier, X_train, y_train):\n",
    "    X_train_vectorized = vectorizer.fit_transform(X_train)\n",
    "    classifier.fit(X_train_vectorized, y_train)\n",
    "    return vectorizer, classifier"
   ]
  },
  {
   "cell_type": "markdown",
   "metadata": {},
   "source": [
    "In fact, we could go ahead and have our model trained, so that the next steps in this lesson are going to be a bit smoother. We could fit our model to classify some texts with our usual dataset:"
   ]
  },
  {
   "cell_type": "code",
   "execution_count": 8,
   "metadata": {},
   "outputs": [
    {
     "name": "stdout",
     "output_type": "stream",
     "text": [
      "0.675\n"
     ]
    }
   ],
   "source": [
    "import pandas as pd\n",
    "from sklearn.model_selection import train_test_split\n",
    "from sklearn.metrics import accuracy_score\n",
    "\n",
    "df = pd.read_csv('https://raw.githubusercontent.com/tiagoft/NLP/refs/heads/main/wiki_movie_plots_drama_comedy.csv').sample(1000)\n",
    "X_train, X_test, y_train, y_test = train_test_split(df['Plot'], df['Genre'], test_size=0.2, random_state=42)\n",
    "vectorizer, classifier = train_each_part_separately(vectorizer, classifier, X_train, y_train)\n",
    "X_vect = vectorizer.transform(X_test)\n",
    "y_pred = classifier.predict(X_vect)\n",
    "print(accuracy_score(y_test, y_pred))"
   ]
  },
  {
   "cell_type": "markdown",
   "metadata": {},
   "source": [
    "Now, let's recall how Logistic Regression works!\n",
    "\n",
    "The fitted predictor expects an input with $d$ features.\n",
    "\n",
    "We use the `vectorizer` to map each text in `X_test` to a vector with $d$ elements. Each of these vectors is a line $[x_1, x_2, x_3 \\cdots x_d]$ in `X_vect` (note that the index $d$ in $x_d$ is the same as the number of features expected by the fitted predictor.\n",
    "\n",
    "Then, Logistic Regression uses its fitter weights $\\beta$ to calculate a weighted sum of the elements in the input, that is:\n",
    "\n",
    "$$\n",
    "z = \\beta_0 + x_1 \\beta_1 + x_2 \\beta_2 + \\cdots + x_d \\beta_d.\n",
    "$$\n",
    "\n",
    "Note that if we have a matrix made of $N$ lines of features (each line corresponding to a dataset item!), then we can calculate the output for each line $i$ using:\n",
    "\n",
    "$$\n",
    "z_i = \\beta_0 + x_{i,1} \\beta_1 + x_{i,2} \\beta_2 + \\cdots + x_{i,d} \\beta_d.\n",
    "$$\n",
    "\n",
    "This can be translated into a matrix multiplication:\n",
    "\n",
    "$$\n",
    "\\begin{bmatrix}\n",
    "z_1 \\\\\n",
    "z_2 \\\\\n",
    "\\cdots \\\\\n",
    "z_N \\end{bmatrix} = \\beta_0 + \\begin{bmatrix} \n",
    "                        x_{1,1} & x_{1,2} & \\cdots & x_{1,d} \\\\\n",
    "                        x_{2,1} & x_{2,2} & \\cdots & x_{2,d} \\\\\n",
    "                        \\cdots & \\cdots & \\cdots & \\cdots \\\\\n",
    "                        x_{N,1} & x_{N,2} & \\cdots & x_{N,d} \\\\\n",
    "                        \\end{bmatrix}\n",
    "                        \\begin{bmatrix}\n",
    "                        \\beta_1 \\\\\n",
    "                        \\beta_2 \\\\\n",
    "                        \\cdots \\\\\n",
    "                        \\beta_d\n",
    "                        \\end{bmatrix}.\n",
    "$$\n",
    "\n",
    "We can simplify this by defining a weight matrix $w = [\\beta_1, \\beta_2, \\cdots, \\beta_d]$, and an input matrix $X$ containing all elements $x_{i,j}$ so that:\n",
    "\n",
    "$$\n",
    "z = \\beta_0 + X w^T\n",
    "$$\n",
    "\n",
    "Last, we apply the logistic function to each element of the vector $z$, and then we have a prediction.\n",
    "\n",
    "The elements of $z$ are called *logits*, $\\beta_0$ is called *bias* and the elements of $w$ are called *weights*.\n",
    "\n",
    "Good, but we didn't come this far to hear again about Logistic Regression. We now shall proceed!"
   ]
  },
  {
   "cell_type": "markdown",
   "metadata": {},
   "source": [
    "## Our first model with Pytorch\n",
    "\n",
    "If you haven't done so, this is the moment to `pip install torch`. Pytorch is a framework that provides an API similar to Numpy with the addition of allowing operations in the GPU and easily using Autograd. Also, it contains many classes that are very useful for applications in Machine Learning. For example:\n"
   ]
  },
  {
   "cell_type": "code",
   "execution_count": 9,
   "metadata": {},
   "outputs": [
    {
     "name": "stdout",
     "output_type": "stream",
     "text": [
      "Linear(in_features=3, out_features=1, bias=True)\n"
     ]
    }
   ],
   "source": [
    "import torch.nn as nn\n",
    "linear_layer = nn.Linear(in_features=3, out_features=1)\n",
    "print(linear_layer)"
   ]
  },
  {
   "cell_type": "markdown",
   "metadata": {},
   "source": [
    "A linear layer takes something as an input $X$, multiplies it by a weight matrix $w$ and sums a bias $b$. In other words:\n",
    "\n",
    "$$\n",
    "z = \\beta_0 + X w^T\n",
    "$$\n",
    "\n",
    "Sounds familiar? Let's see this operation working in practice:\n"
   ]
  },
  {
   "cell_type": "code",
   "execution_count": 10,
   "metadata": {},
   "outputs": [
    {
     "name": "stdout",
     "output_type": "stream",
     "text": [
      "tensor([[0.6812],\n",
      "        [0.7144]], grad_fn=<AddmmBackward0>)\n",
      "Parameter containing:\n",
      "tensor([[ 0.0647, -0.2223,  0.1687]], requires_grad=True) Parameter containing:\n",
      "tensor([0.5552], requires_grad=True)\n",
      "tensor([[0.6812],\n",
      "        [0.7144]], grad_fn=<AddBackward0>)\n"
     ]
    }
   ],
   "source": [
    "import torch\n",
    "X = torch.tensor([[1.0, 2.0, 3.0], [4.0, 5.0, 6.0]])\n",
    "\n",
    "# We can call the linear_layer, and it will perform its operation:\n",
    "output = linear_layer(X)\n",
    "print(output)\n",
    "\n",
    "# We can also access the weights and biases of the linear layer:\n",
    "w = linear_layer.weight\n",
    "b = linear_layer.bias\n",
    "print(w, b)\n",
    "\n",
    "# We can use these weights and biases to perform the operation manually:\n",
    "z = X @ w.T + b\n",
    "print(z)"
   ]
  },
  {
   "cell_type": "markdown",
   "metadata": {},
   "source": [
    "    \n",
    "Note that we defined the size of the weight matrix using the `in_features` and `out_features` in our linear layer. The number `in_features` is the dimension of the input (probably our $d$), and `out_features` allows us to calculate several $z_j$ vectors simultaneously and independently. For example, having `in_features=2` and `out_features=3` leads to:\n",
    "\n",
    "$$\n",
    "\\begin{bmatrix}\n",
    "z_{1,1} & z_{1,2} & z_{1,3} \\\\\n",
    "z_{2,1} & z_{2,2} & z_{2,3} \\\\\n",
    "\\cdots \\\\\n",
    "z_{N, 1} & z_{N,2} & z_{N,3} \\end{bmatrix} = \\beta_0 + \\begin{bmatrix} \n",
    "                        x_{1,1} & x_{1,2} & \\cdots & x_{1,d} \\\\\n",
    "                        x_{2,1} & x_{2,2} & \\cdots & x_{2,d} \\\\\n",
    "                        \\cdots & \\cdots & \\cdots & \\cdots \\\\\n",
    "                        x_{N,1} & x_{N,2} & \\cdots & x_{N,d} \\\\\n",
    "                        \\end{bmatrix}\n",
    "                        \\begin{bmatrix}\n",
    "                        \\beta_{1,1} & \\beta_{1,2} & \\beta{1,3}\\\\\n",
    "                        \\beta_{2,1} & \\beta_{2,2} & \\beta{2,3}\\\\\n",
    "                        \\cdots \\\\\n",
    "                        \\beta_{d,1} & \\beta_{d,2} & \\beta_{d,3}\n",
    "                        \\end{bmatrix}.\n",
    "$$\n"
   ]
  },
  {
   "cell_type": "markdown",
   "metadata": {},
   "source": [
    "A linear layer takes something as an input $X$, multiplies it by a weight matrix $w$ and sums a bias $b$. In other words:\n",
    "\n",
    "$$\n",
    "z = \\beta_0 + X w^T\n",
    "$$\n",
    "\n",
    "Sounds familiar? Let's see this operation working in practice:"
   ]
  },
  {
   "cell_type": "code",
   "execution_count": 11,
   "metadata": {},
   "outputs": [
    {
     "name": "stdout",
     "output_type": "stream",
     "text": [
      "tensor([[0.6812],\n",
      "        [0.7144]], grad_fn=<AddmmBackward0>)\n",
      "Parameter containing:\n",
      "tensor([[ 0.0647, -0.2223,  0.1687]], requires_grad=True) Parameter containing:\n",
      "tensor([0.5552], requires_grad=True)\n",
      "tensor([[0.6812],\n",
      "        [0.7144]], grad_fn=<AddBackward0>)\n"
     ]
    }
   ],
   "source": [
    "import torch\n",
    "X = torch.tensor([[1.0, 2.0, 3.0], [4.0, 5.0, 6.0]])\n",
    "\n",
    "# We can call the linear_layer, and it will perform its operation:\n",
    "output = linear_layer(X)\n",
    "print(output)\n",
    "\n",
    "# We can also access the weights and biases of the linear layer:\n",
    "w = linear_layer.weight\n",
    "b = linear_layer.bias\n",
    "print(w, b)\n",
    "\n",
    "# We can use these weights and biases to perform the operation manually:\n",
    "z = X @ w.T + b\n",
    "print(z)"
   ]
  },
  {
   "cell_type": "markdown",
   "metadata": {},
   "source": [
    "    \n",
    "Note that we defined the size of the weight matrix using the `in_features` and `out_features` in our linear layer. The number `in_features` is the dimension of the input (probably our $d$), and `out_features` allows us to calculate several $z_j$ vectors simultaneously and independently. For example, having `in_features=2` and `out_features=3` leads to:\n",
    "\n",
    "$$\n",
    "\\begin{bmatrix}\n",
    "z_{1,1} & z_{1,2} & z_{1,3} \\\\\n",
    "z_{2,1} & z_{2,2} & z_{2,3} \\\\\n",
    "\\cdots \\\\\n",
    "z_{N, 1} & z_{N,2} & z_{N,3} \\end{bmatrix} = \\beta_0 + \\begin{bmatrix} \n",
    "                        x_{1,1} & x_{1,2} & \\cdots & x_{1,d} \\\\\n",
    "                        x_{2,1} & x_{2,2} & \\cdots & x_{2,d} \\\\\n",
    "                        \\cdots & \\cdots & \\cdots & \\cdots \\\\\n",
    "                        x_{N,1} & x_{N,2} & \\cdots & x_{N,d} \\\\\n",
    "                        \\end{bmatrix}\n",
    "                        \\begin{bmatrix}\n",
    "                        \\beta_{1,1} & \\beta_{1,2} & \\beta{1,3}\\\\\n",
    "                        \\beta_{2,1} & \\beta_{2,2} & \\beta{2,3}\\\\\n",
    "                        \\cdots \\\\\n",
    "                        \\beta_{d,1} & \\beta_{d,2} & \\beta_{d,3}\n",
    "                        \\end{bmatrix}.\n",
    "$$\n",
    "\n",
    "or, more compactly:\n",
    "\n",
    "$$\n",
    "z_{N \\times J} = x_{N \\times d} w^T_{d \\times j} + b_{1 \\times j}\n",
    "$$\n",
    "\n",
    "Note that $w \\in \\mathbb{R}^{j \\times d}$, hence $w^T \\in \\mathbb{R}^{d \\times j}$.\n"
   ]
  },
  {
   "cell_type": "markdown",
   "metadata": {},
   "source": [
    "### Exercise 1\n",
    "\n",
    "In the formulation for the linear layer above, $z$ corresponds to an important part of a logistic regression (remember: logistic regression has an input, a decision function, and then a final probability estimate $P(C | x)$). Which of these parts corresponds to the linear layer operation, and what is missing to make a full logistic regression using the linear layer?"
   ]
  },
  {
   "cell_type": "markdown",
   "metadata": {},
   "source": [
    "Decision Function. The last part is missing: probability estimate."
   ]
  },
  {
   "cell_type": "markdown",
   "metadata": {},
   "source": [
    "## A linear layer is a linear predictor?\n",
    "\n",
    "Allright, so the linear layer works essentially the same as the logistic regression. Let's show it!\n",
    "\n",
    "First, get back to the classifier we made in the beginning of this class. If you haven't fitted it yet, do it now.\n",
    "\n",
    "In the code below, we get the weights from the fitted logistic regression and substitute them in our linear layer:\n"
   ]
  },
  {
   "cell_type": "code",
   "execution_count": null,
   "metadata": {},
   "outputs": [],
   "source": [
    "# X_train_vectorized = vectorizer.fit_transform(X_train)\n",
    "# classifier.fit(X_train_vectorized, y_train)"
   ]
  },
  {
   "cell_type": "code",
   "execution_count": 12,
   "metadata": {},
   "outputs": [],
   "source": [
    "logistic_w = classifier.coef_\n",
    "logistic_b = classifier.intercept_\n",
    "\n",
    "w = torch.tensor(logistic_w, dtype=torch.float32)\n",
    "b = torch.tensor(logistic_b, dtype=torch.float32)\n",
    "\n",
    "linear_layer.weight.data = w\n",
    "linear_layer.bias.data = b"
   ]
  },
  {
   "cell_type": "markdown",
   "metadata": {},
   "source": [
    "Now, we can run the linear layer with `X_vect` and then apply a logistic function:"
   ]
  },
  {
   "cell_type": "code",
   "execution_count": 13,
   "metadata": {},
   "outputs": [],
   "source": [
    "X_vect_tensor = torch.tensor(X_vect.toarray(), dtype=torch.float32)\n",
    "output = linear_layer(X_vect_tensor)\n",
    "output_probs = torch.sigmoid(output)"
   ]
  },
  {
   "cell_type": "markdown",
   "metadata": {},
   "source": [
    "What’s Happening in This Code?\n",
    "This code compares the predictions from two models:\n",
    "\n",
    "Scikit-learn's Logistic Regression (classifier)\n",
    "\n",
    "PyTorch's linear_layer (manually set with classifier's weights)\n",
    "\n",
    "It checks if they produce the same probabilities and accuracy."
   ]
  },
  {
   "cell_type": "markdown",
   "metadata": {},
   "source": [
    "Note that our `output_probs` here is equal to the second column of the output of `classifier.predict_proba()`:"
   ]
  },
  {
   "cell_type": "code",
   "execution_count": 14,
   "metadata": {},
   "outputs": [
    {
     "name": "stdout",
     "output_type": "stream",
     "text": [
      "[[9.99774700e-01 2.25299839e-04]\n",
      " [8.53157793e-01 1.46842207e-01]\n",
      " [3.93463779e-01 6.06536221e-01]\n",
      " [2.74442615e-01 7.25557385e-01]\n",
      " [2.89835478e-01 7.10164522e-01]]\n",
      "tensor([[2.2530e-04],\n",
      "        [1.4684e-01],\n",
      "        [6.0654e-01],\n",
      "        [7.2556e-01],\n",
      "        [7.1016e-01]], grad_fn=<SliceBackward0>)\n"
     ]
    }
   ],
   "source": [
    "y_probs = classifier.predict_proba(X_vect)\n",
    "print(y_probs[:5])\n",
    "print(output_probs[:5])"
   ]
  },
  {
   "cell_type": "markdown",
   "metadata": {},
   "source": [
    "In fact, we could simply decide our class by thresholding our output:"
   ]
  },
  {
   "cell_type": "code",
   "execution_count": 15,
   "metadata": {},
   "outputs": [
    {
     "name": "stdout",
     "output_type": "stream",
     "text": [
      "0.675\n"
     ]
    }
   ],
   "source": [
    "binary_out = (output_probs > 0.5).numpy().astype(int)\n",
    "binary_y = (y_test==classifier.classes_[1]).astype(int)\n",
    "print(accuracy_score(binary_y, binary_out))"
   ]
  },
  {
   "cell_type": "markdown",
   "metadata": {},
   "source": [
    "## How to train a Logistic Regression\n",
    "\n",
    "Remember that our classifier outputs:\n",
    "\n",
    "\n",
    "\n",
    "$$\n",
    "\\hat{y} = \\sigma(z) = \\sigma(Xw^T + b),\n",
    "$$\n",
    "where $\\sigma()$ denotes the sigmoid (or logistic) function?\n",
    "\n",
    "The procedure to adjust the weights and biases in our linear layer is to use actual examples of outputs ($y$) and compare them to our estimate $\\hat{y}$. They are probably not going to be the same, so we can calculate how $y$ and $\\hat{y}$ are different using a loss function $L(y, \\hat{y})$. Then, we are going to calculate the derivative of $L$ with respect to all weights and biases, that is, we will have:\n",
    "\n",
    "$$\n",
    "g_i = \\frac{d L}{d p_i}\n",
    "$$\n",
    "\n",
    "for each parameter $p_i$ in the linear layer (either a weight or a bias). The parameters in the linear layer are the weights and biases. \n",
    "\n",
    "You might have noticed that $g$ is a vector of derivatives. Actually, you might even remember that it is called a *gradient* vector written as $\\nabla L$.\n",
    "\n",
    "Remember that the gradient points towards the direction in which $L$ grows the most if we change the parameters $p$? So, let's do the opposite! We want to decrease our loss, so we will change our parameters by *subtracting* a little bit of the gradient vector, that is, we iteractively update the parameters as:\n",
    "\n",
    "$$\n",
    "p_i \\leftarrow \\alpha \\frac{\\partial L}{\\partial p_i},\n",
    "$$\n",
    "\n",
    "where $\\alpha$ is a small value of our choice. A lower $\\alpha$ means steps will be smaller, which can make it take longer to converge, whereas a higher value can lead to instabilities.\n",
    "\n",
    "We could be fancier and write this in vector form:\n",
    "\n",
    "$$\n",
    "p \\leftarrow \\alpha \\nabla_{\\mathbf{p}} L.\n",
    "$$\n",
    "\n",
    "What we usually do is to calculate the gradient $g$ for each item in the training data, and then sum (or average?) it before applying the step to the parameters. This process of going through the whole dataset is called *epoch*.\n",
    "\n",
    "Now, how do we implement this? Let's go!\n"
   ]
  },
  {
   "cell_type": "code",
   "execution_count": 16,
   "metadata": {},
   "outputs": [],
   "source": [
    "# First, we prepare our data:\n",
    "X_vect_train = torch.tensor(vectorizer.transform(X_train).toarray(), dtype=torch.float32)\n",
    "y_train_ = (y_train == classifier.classes_[1]).astype(int).values\n",
    "y_train_vect = torch.tensor( y_train_, dtype=torch.float32).reshape( -1, 1)"
   ]
  },
  {
   "cell_type": "markdown",
   "metadata": {},
   "source": [
    "    \n",
    "Ok, now we are going to get into an optimization loop. When using Pytorch, we must first define an optimizer - we will use SGD, which is literally the gradient descent algorithm we have seen so far. Then, we will go into a training loop consisting of:\n",
    "\n",
    "1. Zeroing the gradient in the optimizer to reset its state,\n",
    "1. Calculate the output of the classifier\n",
    "1. Claculate the loss related to the output\n",
    "1. Calculate (going back into the layer!) the gradient of the loss using [autograd](https://pytorch.org/tutorials/beginner/blitz/autograd_tutorial.html)\n",
    "1. Apply the gradient to our parameters\n",
    "\n",
    "It goes like this:\n"
   ]
  },
  {
   "cell_type": "code",
   "execution_count": null,
   "metadata": {},
   "outputs": [
    {
     "name": "stdout",
     "output_type": "stream",
     "text": [
      "Entering loop\n",
      "199.7392578125\n",
      "195.45303344726562\n",
      "193.00994873046875\n",
      "191.3751678466797\n",
      "190.0985107421875\n"
     ]
    }
   ],
   "source": [
    "\n",
    "# Let's start with a new linear layer:\n",
    "clf = nn.Linear(in_features=len(vectorizer.vocabulary_), out_features=1)\n",
    "\n",
    "# We will also define an optimizer:\n",
    "optimizer = torch.optim.SGD(clf.parameters(), lr=1e-4) # lr is the learning rate - this is our alpha\n",
    "\n",
    "print(\"Entering loop\")\n",
    "# And now, this is the training loop:\n",
    "for epoch in range(5):\n",
    "    optimizer.zero_grad()  # Reset accumulated gradients from the previous step\n",
    "    output = clf(X_vect_train)  # Compute Z = Xw^T + b (logits, raw scores before sigmoid)\n",
    "    output_probs = torch.sigmoid(output)  # Convert logits to probabilities, y_hat\n",
    "    loss = torch.sum((output_probs - y_train_vect) ** 2)  # Compute loss (Sum of Squared Error)\n",
    "    loss.backward()  # Compute gradients (∂Loss/∂w and ∂Loss/∂b using backpropagation)\n",
    "    optimizer.step()  # Update weights and biases using computed gradients\n",
    "    \n",
    "    print(loss.item())  # Print loss value for monitoring\n"
   ]
  },
  {
   "cell_type": "markdown",
   "metadata": {},
   "source": [
    "How does pytorch know that gradients should be calculated? Well, they are calculated by default. That is why, in inference (or: in testing), we use `torch.no_grad()` and `model.eval()` - this saves memory, and saves computation time as well:"
   ]
  },
  {
   "cell_type": "code",
   "execution_count": 18,
   "metadata": {},
   "outputs": [
    {
     "name": "stdout",
     "output_type": "stream",
     "text": [
      "0.55\n"
     ]
    }
   ],
   "source": [
    "X_vect_test = torch.tensor(vectorizer.transform(X_test).toarray(), dtype=torch.float32)\n",
    "y_test_ = (y_test == classifier.classes_[1]).astype(int).values\n",
    "with torch.no_grad():\n",
    "    clf.eval()\n",
    "    y_pred = (torch.sigmoid(clf(X_vect_test)) > 0.5).numpy().astype(int)\n",
    "print(accuracy_score(y_test_, y_pred))"
   ]
  },
  {
   "cell_type": "markdown",
   "metadata": {},
   "source": [
    "## Watching our training process\n",
    "\n",
    "If you simply increased the number of epochs to 1000 in our loop, you probably had an overflow of `print` statements with the current loss. We probably don't want to see that - rather, we want a figure!\n",
    "\n",
    "Up until a few years ago, we had to make this figure all by ourselves, with a procedure such as:\n"
   ]
  },
  {
   "cell_type": "code",
   "execution_count": 19,
   "metadata": {},
   "outputs": [
    {
     "name": "stderr",
     "output_type": "stream",
     "text": [
      "100%|██████████| 10000/10000 [00:56<00:00, 178.20it/s]\n"
     ]
    }
   ],
   "source": [
    "from tqdm import tqdm # This will make us a progress bar\n",
    "\n",
    "clf = nn.Linear(in_features=len(vectorizer.vocabulary_), out_features=1)\n",
    "optimizer = torch.optim.SGD(clf.parameters(), lr=1e-3) # lr is the learning rate - this is our alpha\n",
    "\n",
    "# And now, a loop that is equal for everyone:\n",
    "losses = []\n",
    "accs = []\n",
    "for epoch in tqdm(range(10000)):\n",
    "    optimizer.zero_grad()\n",
    "    output = clf(X_vect_train)\n",
    "    output_probs = torch.sigmoid(output)\n",
    "    loss = torch.mean( (output_probs-y_train_vect)**2 )\n",
    "    loss.backward()\n",
    "    optimizer.step()\n",
    "    losses.append(loss.item())\n",
    "\n",
    "    with torch.no_grad():\n",
    "        clf.eval()\n",
    "        y_pred = (torch.sigmoid(clf(X_vect_test)) > 0.5).numpy().astype(int)\n",
    "        accs.append(accuracy_score(y_test_, y_pred))\n"
   ]
  },
  {
   "cell_type": "code",
   "execution_count": 21,
   "metadata": {},
   "outputs": [
    {
     "data": {
      "image/png": "[encoded data removed]",
      "text/plain": [
       "<Figure size 300x200 with 1 Axes>"
      ]
     },
     "metadata": {},
     "output_type": "display_data"
    },
    {
     "data": {
      "image/png": "[encoded data removed]",
      "text/plain": [
       "<Figure size 300x200 with 1 Axes>"
      ]
     },
     "metadata": {},
     "output_type": "display_data"
    }
   ],
   "source": [
    "import matplotlib.pyplot as plt\n",
    "plt.figure(figsize=(3,2))\n",
    "plt.plot(losses)\n",
    "plt.xlabel('Epoch')\n",
    "plt.ylabel('Loss')\n",
    "plt.show()\n",
    "\n",
    "plt.figure(figsize=(3,2))\n",
    "plt.plot(accs)\n",
    "plt.xlabel('Epoch')\n",
    "plt.ylabel('Loss')\n",
    "plt.show()\n"
   ]
  },
  {
   "cell_type": "markdown",
   "metadata": {
    "vscode": {
     "languageId": "bat"
    }
   },
   "source": [
    "crossentropy - classificacao. maximar probalidade de acertar\n",
    "mean s - regressão. diz o quao longe vc chutou. "
   ]
  },
  {
   "cell_type": "markdown",
   "metadata": {},
   "source": [
    "\n",
    "Nowadays, we have plenty of frameworks to store this same data: there is Weights and Biases, MLFlow, TensorBoard, and so on. Please, do feel free to use any of them. We will not adopt any of them for this course because we might get trapped within very specific details of them.\n",
    "\n",
    "\n",
    "**The main lessons here are:**\n",
    "\n",
    "* Save your data to a variable, and plot figures later (do NOT plot while doing training!)\n",
    "* Do not use the terminal to debug your loss\n",
    "* Use `tqdm` so we know your code is running.\n",
    "\n",
    "## Exercise 2\n",
    "\n",
    "Manipulate the code above to find the following:\n",
    "\n",
    "1. When we use `torch.sum( (output_probs-y_train_vect)**2 )` to calculate the loss, we are essentially saying that larger datasets have larger losses. Change this calculation so the loss is independent of the number of items in the dataset.\n",
    "\n",
    "        divide by len -> `torch.mean( (output_probs-y_train_vect)**2 )`\n",
    "\n",
    "1. You might want to increase the learning rate `lr` to make your training faster. What happens if you increase it too much? Can you guess why?\n",
    "\n",
    "        The steps of each backprogration will be big, thus the model might not converge because the gradient descent will not reach the global minimum.\n",
    "\n",
    "1. Change your code to show that the `accuracy` (at least in the training set) tends to decrease together with the `loss`.\n",
    "1. How many epochs do you actually need in this training process?"
   ]
  },
  {
   "cell_type": "markdown",
   "metadata": {},
   "source": []
  },
  {
   "cell_type": "code",
   "execution_count": 15,
   "metadata": {},
   "outputs": [
    {
     "data": {
      "text/plain": [
       "10"
      ]
     },
     "execution_count": 15,
     "metadata": {},
     "output_type": "execute_result"
    }
   ],
   "source": [
    "def recursion(n: int):\n",
    "    if n <= 0:\n",
    "        return 1\n",
    "    elif n % 2 == 1:\n",
    "        return 1 + recursion(n - 1)\n",
    "    else:\n",
    "        return 1 + recursion(n // 2)\n",
    "\n",
    "recursion(100)"
   ]
  }
 ],
 "metadata": {
  "kernelspec": {
   "display_name": "env",
   "language": "python",
   "name": "python3"
  },
  "language_info": {
   "codemirror_mode": {
    "name": "ipython",
    "version": 3
   },
   "file_extension": ".py",
   "mimetype": "text/x-python",
   "name": "python",
   "nbconvert_exporter": "python",
   "pygments_lexer": "ipython3",
   "version": "3.12.0"
  }
 },
 "nbformat": 4,
 "nbformat_minor": 2
}
