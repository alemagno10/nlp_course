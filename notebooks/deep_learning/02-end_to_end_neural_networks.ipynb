{
 "cells": [
  {
   "cell_type": "markdown",
   "metadata": {},
   "source": [
    "# End-to-end Neural Networks for NLP\n",
    "\n",
    "## Word Embeddings\n",
    "\n",
    "If everything is going well, you have used PyTorch to make a classifier based on logistic regression. Also, you are probably mildly annoyed by the fact that the accuracy was essentially the same as what we had with our previous version using scikit-learn, with the added difficulty that we had to write a loop all by ourselves.\n",
    "\n",
    "Now it is time to do some math and review our models.\n",
    "\n",
    "### Some underlying math of the bag-of-words model\n",
    "\n",
    "In our current model, we represent each word by a line-vector $x_n$ with $v$ dimensions, where $v$ is the length of our vocabulary. Therefore, a document with $n$ words can be represented by a matrix of words within a document $X^{(d)}$ as:\n",
    "\n",
    "$$\n",
    "X^{(d)} = \n",
    "\\begin{bmatrix} \n",
    "                        x^{(d)} _{1,1} & x^{(d)}_{1,2} & \\cdots & x^{(d)}_{1,d} \\\\\n",
    "                        x^{(d)}_{2,1} & x^{(d)}_{2,2} & \\cdots & x^{(d)}_{2,d} \\\\\n",
    "                        \\vdots & \\vdots & \\ddots & \\vdots \\\\\n",
    "                        x^{(d)}_{N,1} & x^{(d)}_{N,2} & \\cdots & x^{(d)}_{N,d} \\\\\n",
    "                        \\end{bmatrix}\n",
    "$$\n",
    "\n",
    "Then, we essentially sum all elements of the matrix to get a count. This maps the sequence of words to a single vector $x$ that represents our document:\n",
    "\n",
    "$$\n",
    "x^\\prime_j = \\sum _{i=1}^n x^{(d)}_{i,j}\n",
    "$$\n",
    "\n",
    "This is the same as pre-multiplying $W$ by a line-matrix of ones:\n",
    "\n",
    "$$\n",
    "x^\\prime_j = [1, 1, \\cdots, 1] \\begin{bmatrix}\n",
    "x^{(d)}_1 \\\\\n",
    "x^{(d)}_2 \\\\ \n",
    "\\cdots \\\\\n",
    "x^{(d)}_n\n",
    "\\end{bmatrix}\n",
    "$$\n",
    "\n",
    "Last, if we want to binarize this vector, we simply apply an element-wise non-linearity such as:\n",
    "\n",
    "$$\n",
    "x = f(x^\\prime),\n",
    "$$\n",
    "where $f(x)=1$ if $x>0$ and $f(x)=0$ otherwise.\n",
    "\n",
    "Essentially, what we must do is:\n",
    "\n",
    "1. Get a representation for each word\n",
    "1. Combine the word representations for a document into a single representation\n",
    "1. Use some non-linearity to modulate the representation as needed\n",
    "\n",
    "Our solutions, so far, are:\n",
    "\n",
    "1. Use a one-hot encoding\n",
    "1. Use a simple summation\n",
    "1. Use a step-function with a suitable threshold\n",
    "\n",
    "The reason we have these solutions is that they somehow *make sense*. But now let's raise a question: are they the *best* solutions?\n",
    "\n",
    "### Problems with the sparse representation\n",
    "\n",
    "The one-hot encoding for words is easy to understand, but, at the same time, has some problems. \n",
    "\n",
    "The first, and more obvious, is that the dimensionality of the representation grows when the vocabulary grows. This is a problem because the amount of required data to train a system is typically a function of its dimension - hence, the more words we have, the more data we need. The vocabulary typically grows when we add more texts to the dataset, so this actually means: the more data we have, the more data we need.\n",
    "\n",
    "The second is that our data matrix starts getting too big. Maybe it stops fitting memory - and this is because we have so many columns! Maybe we could do something about this?\n",
    "\n",
    "The third, and less obvious, is that the distance between words is the same, regardless of their meaning. Hence, when we learn about dungeons, our system learns nothing about dragons. In fact, classifiers based on one-hot bag-of-words have no internal representation indicating that dungeons and dragons go more or less together.\n",
    "\n",
    "### Dense representations\n",
    "\n",
    "So, let's do something else. Let's say that each word is now going to be represented as a vector in some $\\mathbb{R}^N$ space. We are free to choose $N$. This representation is called *embedding*.\n",
    "\n",
    "Embeddings are *dense* representations, meaning that all dimensions are important. The name *dense* opposes to the *sparse* idea of the one-hot encoding in which only one dimension is important per word, and only a few dimensions are important per document.\n",
    "\n",
    "What we *want* here is to have all words being represented in locations of $\\mathbb{R}^N$ that reflect their meaning. But, what is *meaning*?\n",
    "\n",
    "This is a complicated question, which we will approach during this course.\n",
    "\n",
    "For now, let's go on and code a little.\n",
    "\n",
    "### Coding with embeddings\n",
    "\n",
    "To map words to their embeddings, we use a data structure that is very similar to a dictionary. The structure is wrapped in an *embedding layer* in Pytorch. \n",
    "\n",
    "It receives a sequence of integers as input. Each of these integer corresponds to a token in the vocabulary. For now, we will assume that each token corresponds to a word. Then, it yields a sequence of vectors for each document:"
   ]
  },
  {
   "cell_type": "code",
   "execution_count": 2,
   "metadata": {},
   "outputs": [
    {
     "name": "stdout",
     "output_type": "stream",
     "text": [
      "tensor([[[ 0.1382, -0.1535],\n",
      "         [ 0.1064, -0.8048],\n",
      "         [-0.7146,  1.2381],\n",
      "         [ 0.0328,  0.1860]],\n",
      "\n",
      "        [[-1.4498, -1.4511],\n",
      "         [ 0.4536, -0.2331],\n",
      "         [-1.4498, -1.4511],\n",
      "         [ 0.0328,  0.1860]],\n",
      "\n",
      "        [[ 0.4536, -0.2331],\n",
      "         [-1.4498, -1.4511],\n",
      "         [ 0.0328,  0.1860],\n",
      "         [-0.7146,  1.2381]]], grad_fn=<EmbeddingBackward0>)\n",
      "torch.Size([3, 4, 2])\n"
     ]
    }
   ],
   "source": [
    "import torch\n",
    "import torch.nn as nn\n",
    "\n",
    "# Parameters of the embedding layer\n",
    "vocab_size = 100  # Number of unique tokens\n",
    "embedding_dim = 2  # You can choose the dimension of the embeddings\n",
    "embedding_layer = nn.Embedding(num_embeddings=vocab_size, embedding_dim=embedding_dim)\n",
    "\n",
    "# Documents are now represented as sequences of tokens.\n",
    "# Each token is an integer representing the index of the token in the vocabulary.\n",
    "# tensor below: documents x tokens/words matrix.\n",
    "tokens = torch.tensor([ [0, 1, 2, 3],\n",
    "                        [4, 5, 4, 3],\n",
    "                        [5, 4, 3, 2] ])\n",
    "\n",
    "# Get the embeddings for the tokens\n",
    "embeddings = embedding_layer(tokens)\n",
    "\n",
    "print(embeddings)\n",
    "print(embeddings.shape)"
   ]
  },
  {
   "cell_type": "markdown",
   "metadata": {},
   "source": [
    "Note that, in the code above, we yielded a batch of three texts to the embedding layer. The batch has a length of four. Then, the embedding layer returns a tensor with tridimensional shape. The shape $3 \\times 4 \\times 2$ means:\n",
    "\n",
    "* We have 3 documents\n",
    "* Each document has 4 tokens\n",
    "* Each word is encoded in 2 dimensions"
   ]
  },
  {
   "cell_type": "markdown",
   "metadata": {},
   "source": [
    "## Strategies for tokenization\n",
    "\n",
    "Just some minutes ago, we discussed that a token corresponds to a word. In fact, a token is a piece of the text that conveys some information - and this could be a word. Also, we have used n-grams as tokens when we wanted to consider the sequence of words.\n",
    "\n",
    "Now, let's remember. If we had around, maybe, $10^4$ words in our vocabulary, then we would have potentially $10^8$ bi-grams, and $10^{12}$ potential tri-grams. This is because we are aggreting more and more possible symbols.\n",
    "\n",
    "However, we could go on the opposite direction here.\n",
    "\n",
    "If we had the words \"working\", \"works\", \"walking\", \"walks\", \"calling\", and \"calls\", we could easily tokenize them into 6 tokens, each corresponding to full words.\n",
    "\n",
    "However, we could separate the suffixes and the stems. In this case, we could have tokens for: \"work\", \"walk\", \"call\", \"s\", and \"ing\". See: now we have 5 tokens instead of 6.\n",
    "\n",
    "This is generally called a \"subword\" tokenization strategy. One of the most used algorithms for such is called Sentence Piece Tokenizer. It works by building a vocabulary like this:\n",
    "\n",
    "1. Assume each character is a separate token\n",
    "1. Create a new token that merges the most common token sequence into a separate token\n",
    "1. Repeat the merging until we reach a reasonable vocabulary size\n",
    "\n",
    "A nice advantage of using this method is that it is less likely to find unknown tokens - afterall, we start from a limited vocabulary.\n",
    "\n",
    "Also, we are not going to build a tokenizer from scratch: instead, we are going to use a ready-made one. If you want to read all about it, refer to:\n",
    "\n",
    "[Kudo, T., and Richardson, J. SentencePiece: A simple and language independent subword tokenizer and detokenizer for Neural Text Processing (2018)](https://arxiv.org/pdf/1808.06226)\n",
    "\n",
    "### Example code for training a Sentence Piece tokenizer:"
   ]
  },
  {
   "cell_type": "code",
   "execution_count": 3,
   "metadata": {},
   "outputs": [],
   "source": [
    "import sentencepiece as spm\n",
    "from io import StringIO\n",
    "\n",
    "# Your input data as a string\n",
    "input_data = \"\"\"Was ever feather so lightly blown to and fro as this multitude? The\n",
    "name of Henry the Fifth hales them to an hundred mischiefs and makes\n",
    "them leave me desolate. I see them lay their heads together to surprise\n",
    "me. My sword make way for me, for here is no staying.—In despite of the\n",
    "devils and hell, have through the very middest of you! And heavens and\n",
    "honour be witness that no want of resolution in me, but only my\n",
    "followers’ base and ignominious treasons, makes me betake me to my\n",
    "heels.\n",
    "\"\"\"\n",
    "\n",
    "# Use StringIO to create a file-like object\n",
    "input_fp = StringIO(input_data)\n",
    "\n",
    "# Train the SentencePiece model using the file pointer\n",
    "spm.SentencePieceTrainer.train(\n",
    "    sentence_iterator=input_fp, \n",
    "    model_prefix='my_tokenizer', \n",
    "    vocab_size=100\n",
    ")"
   ]
  },
  {
   "cell_type": "markdown",
   "metadata": {},
   "source": [
    "### Example code to test the trained tokenizer:"
   ]
  },
  {
   "cell_type": "code",
   "execution_count": 4,
   "metadata": {},
   "outputs": [
    {
     "name": "stdout",
     "output_type": "stream",
     "text": [
      "Encoded pieces: ['▁', 'T', 'hi', 's', '▁', 'is', '▁', 'a', '▁', 't', 'es', 't', '▁s', 'e', 'n', 't', 'e', 'n', 'c', 'e', '.']\n",
      "Encoded ids: [3, 82, 90, 7, 3, 28, 3, 59, 3, 9, 54, 9, 30, 4, 14, 9, 4, 14, 83, 4, 20]\n",
      "Recovered sentence: This is a test sentence.\n"
     ]
    }
   ],
   "source": [
    "# Load the trained SentencePiece model\n",
    "sp = spm.SentencePieceProcessor()\n",
    "sp.load('my_tokenizer.model')\n",
    "\n",
    "# Test the tokenizer\n",
    "test_sentence = \"This is a test sentence.\"\n",
    "encoded_pieces = sp.encode_as_pieces(test_sentence)\n",
    "encoded_ids = sp.encode_as_ids(test_sentence)\n",
    "recovered_sentence = sp.decode_ids(encoded_ids)\n",
    "\n",
    "print(\"Encoded pieces:\", encoded_pieces)\n",
    "print(\"Encoded ids:\", encoded_ids)\n",
    "print(\"Recovered sentence:\", recovered_sentence)"
   ]
  },
  {
   "cell_type": "markdown",
   "metadata": {},
   "source": [
    "## Zero-padding and truncation: keeping sentences the same length\n",
    "\n",
    "If you have been paying attention, you probably realized that, in any language, sentences have different lengths. However, PyTorch works with tensors, hence the inputs for an embedding layer should have the same length.\n",
    "\n",
    "If we find long sentences, we could just truncate them so a desired length.\n",
    "\n",
    "However, if we find a short sentence, the procedure is different. Usually, we insert a special token called \"padding\" so that the sentence artificially becomes our desired length:"
   ]
  },
  {
   "cell_type": "code",
   "execution_count": 6,
   "metadata": {},
   "outputs": [],
   "source": [
    "# Use StringIO to create a file-like object\n",
    "input_fp = StringIO(input_data)\n",
    "\n",
    "# Train the SentencePiece model using the file pointer\n",
    "spm.SentencePieceTrainer.train(\n",
    "    sentence_iterator=input_fp, \n",
    "    model_prefix='my_tokenizer', \n",
    "    vocab_size=100,\n",
    "    user_defined_symbols=['<PAD>']\n",
    ")\n"
   ]
  },
  {
   "cell_type": "code",
   "execution_count": 7,
   "metadata": {},
   "outputs": [
    {
     "name": "stdout",
     "output_type": "stream",
     "text": [
      "3\n"
     ]
    }
   ],
   "source": [
    "sp = spm.SentencePieceProcessor()\n",
    "sp.load('my_tokenizer.model')\n",
    "print(sp.piece_to_id('<PAD>'))"
   ]
  },
  {
   "cell_type": "code",
   "execution_count": 14,
   "metadata": {},
   "outputs": [
    {
     "name": "stdout",
     "output_type": "stream",
     "text": [
      "[[4, 83, 91, 8, 4, 29, 26, 6, 4, 10, 55, 10, 31, 5, 15, 10, 5, 15, 84, 5, 3, 3, 3, 3, 3], [4, 83, 91, 8, 4, 29, 78, 56, 10, 58, 4, 10, 55, 10, 31, 5, 15, 10, 5, 15, 84, 5, 3, 3, 3], [34, 29, 4, 29, 4, 60, 4, 35, 60, 96, 6, 40, 28, 42, 31, 5, 0, 27, 5, 15, 84, 5, 16, 4, 45]]\n",
      "torch.Size([3, 25, 2])\n"
     ]
    }
   ],
   "source": [
    "# Create an embedding layer with padding index set to 3\n",
    "def pad_to_len(sequences, pad_idx, max_len):\n",
    "    padded = []\n",
    "    for s in sequences:\n",
    "        if len(s) >= max_len:\n",
    "            padded.append(s[:max_len])\n",
    "        else:\n",
    "            padded.append(s + [pad_idx] * (max_len - len(s)))\n",
    "    return padded\n",
    "\n",
    "vocab_size = len(sp)\n",
    "embedding_dim = 2\n",
    "padding_idx = sp.piece_to_id('<PAD>')\n",
    "embedding_layer_with_padding = nn.Embedding(\n",
    "    num_embeddings=vocab_size,\n",
    "    embedding_dim=embedding_dim,\n",
    "    padding_idx=padding_idx,   \n",
    ")\n",
    "\n",
    "# Get the embeddings for the tokens using the new embedding layer\n",
    "input_data = [\"This is my test sentence\", \"This is another test sentence\", \"this is a really long sequence and I will probably have to crop it!\"]\n",
    "tokens = sp.tokenize(input_data)\n",
    "tokens = pad_to_len(tokens, padding_idx, 25)\n",
    "print(tokens)\n",
    "embeddings_with_padding = embedding_layer_with_padding(torch.tensor(tokens))\n",
    "#print(embeddings_with_padding)\n",
    "print(embeddings_with_padding.shape)"
   ]
  },
  {
   "cell_type": "markdown",
   "metadata": {},
   "source": [
    "## How far have we gone?\n",
    "\n",
    "So far, we have tokenized a batch of $b$ texts and have cropped/padded them to length $l$. After that, we calculated embeddings of dimension $d$ for our words. If everything went well, we now have embeddings $E \\in \\mathbb{R}^{b \\times l \\times d}$:\n",
    "\n",
    "```mermaid\n",
    "graph LR;\n",
    "    subgraph Tokenization;\n",
    "    Text([\"Texts (List of $$b$$ texts)\"]) --> A[\"Tokenizer\n",
    "        Cropping\n",
    "        Padding\"] --> B([\"Tokens (List, $$b \\times l$$)\"]) \n",
    "    end;\n",
    "\n",
    "    subgraph Embedding;\n",
    "    B --> C[\"Embedding\n",
    "    Layer\"] --> D([\"Embeddings ($$E \\in \\mathbb{R}^{b \\times l \\times d}$$)\"])\n",
    "    end;\n",
    "```\n",
    "\n",
    "However, if we are going to classify our text using Logistic Regression, we need a single vector to represent the whole sequence, that is, we need to convert:\n",
    "\n",
    "$$\n",
    "E \\in \\mathbb{R}^{b \\times l \\times d}\n",
    "$$\n",
    "\n",
    "to \n",
    "\n",
    "$$\n",
    "X \\in \\mathbb{R}^{b \\times d}\n",
    "$$\n",
    "\n",
    "In other words, we need to *summarize* the word-level embeddings into a single document-level embedding.\n",
    "\n",
    "The easiest way to do so is to calculate the mean of the embeddings, then we can proceed to classification:\n",
    "\n",
    "```mermaid\n",
    "graph LR;\n",
    "\n",
    "    subgraph Embedding;\n",
    "    D([\"Embeddings ($$E \\in \\mathbb{R}^{b \\times l \\times d}$$)\"])\n",
    "    end;\n",
    "\n",
    "    subgraph Summarization;\n",
    "    D --> E[\"Mean over time\"] --> F([\"Embeddings ($$X \\in \\mathbb{R}^{b \\times d}$$)\"])\n",
    "    end;\n",
    "\n",
    "    subgraph Classification;\n",
    "    F --> G[\"Logistic Regression\"] --> H([\"$$P(C_i=c_j | X_i)$$\"])\n",
    "    end;\n",
    "```\n",
    "\n",
    "Overall, we get 4-step architecture (tokenization, embedding, summarization, classification) that is, in fact, very similar to the one we had when we were using the vectorizer-classifier pipelines with the bag-of-words approach:\n",
    "\n",
    "```mermaid\n",
    "graph LR;\n",
    "\n",
    "    A([\"Text\"]) --> B[\"Tokenization\"];\n",
    "\n",
    "    subgraph Vectorization;\n",
    "    \n",
    "    B --> C[\"Embedding\"] --> D[\"Summarization\"];\n",
    "    end;\n",
    "    \n",
    "    subgraph Classification;\n",
    "    D --> E[\"Classification\"]\n",
    "    end;\n",
    " \n",
    "    E --> F([\"Prediction\"]);    \n",
    "\n",
    "```\n",
    "\n"
   ]
  },
  {
   "cell_type": "markdown",
   "metadata": {},
   "source": [
    "## Making a pipeline with PyTorch"
   ]
  },
  {
   "cell_type": "markdown",
   "metadata": {},
   "source": [
    "Remember that in Scikit-Learn we had pipelines? In PyTorch, the equivalent procedure is to make a class. This class should inherit from `nn.Module` and we have to define, at least, the methods:\n",
    "\n",
    "* `__init__`, which will initialize the class, instantiate all blocks that have parameters, and so on;\n",
    "* `forward`, which is called when the object is called (it bothers me that the more pythonic `__call__` was not chosen for this...). This method implements the actual workings of the pipeline. See this example:"
   ]
  },
  {
   "cell_type": "code",
   "execution_count": 15,
   "metadata": {},
   "outputs": [
    {
     "name": "stdout",
     "output_type": "stream",
     "text": [
      "SimpleClassifier(\n",
      "  (embedding): Embedding(100, 2, padding_idx=3)\n",
      "  (clf): Linear(in_features=2, out_features=1, bias=True)\n",
      ")\n"
     ]
    }
   ],
   "source": [
    "import torch.nn.functional as F\n",
    "import torch.nn as nn\n",
    "\n",
    "class SimpleClassifier(nn.Module):\n",
    "    def __init__(self, vocab_size, embedding_dim):\n",
    "        super().__init__()\n",
    "        self.embedding = nn.Embedding(\n",
    "            num_embeddings=vocab_size,\n",
    "            embedding_dim=embedding_dim,\n",
    "            padding_idx=padding_idx\n",
    "        )\n",
    "        self.clf = nn.Linear(embedding_dim, 1)\n",
    "        \n",
    "    def forward(self, x):\n",
    "        x = self.embedding(x)\n",
    "        x = torch.mean(x, dim=1)\n",
    "        x = self.clf(x)\n",
    "        return x\n",
    "    \n",
    "    def word_level_embeddings(self):\n",
    "        return self.embedding.weight\n",
    "\n",
    "model = SimpleClassifier(vocab_size, embedding_dim)\n",
    "print(model)"
   ]
  },
  {
   "cell_type": "code",
   "execution_count": 16,
   "metadata": {},
   "outputs": [],
   "source": [
    "import pandas as pd \n",
    "from sklearn.model_selection import train_test_split\n",
    "\n",
    "df = pd.read_csv(\n",
    "    'https://raw.githubusercontent.com/tiagoft/NLP/main/wiki_movie_plots_drama_comedy.csv'\n",
    ")\n",
    "# Split the data into training and testing sets\n",
    "texts = list(df['Plot'])\n",
    "labels = torch.tensor(list(df['Genre'].apply(lambda x: 1 if x == 'drama' else 0)))\n",
    "X_train, X_test, y_train, y_test = train_test_split(texts,\n",
    "                                                    labels,\n",
    "                                                    test_size=0.2)\n"
   ]
  },
  {
   "cell_type": "code",
   "execution_count": 17,
   "metadata": {},
   "outputs": [],
   "source": [
    "from sklearn.decomposition import PCA\n",
    "import matplotlib.pyplot as plt\n",
    "\n",
    "def plot_embeddings(embedding_weights, vocab, title):\n",
    "    pca = PCA(n_components=2)\n",
    "    reduced = pca.fit_transform(embedding_weights.detach().cpu().numpy())\n",
    "    \n",
    "    plt.figure(figsize=(10, 8))\n",
    "    plt.scatter(reduced[:, 0], reduced[:, 1])\n",
    "    for i, word in enumerate(vocab):\n",
    "        plt.annotate(word, (reduced[i, 0], reduced[i, 1]))\n",
    "    plt.title(title)\n",
    "    plt.show()"
   ]
  },
  {
   "cell_type": "code",
   "execution_count": 19,
   "metadata": {},
   "outputs": [
    {
     "data": {
      "image/png": "[encoded data removed]",
      "text/plain": [
       "<Figure size 1000x800 with 1 Axes>"
      ]
     },
     "metadata": {},
     "output_type": "display_data"
    }
   ],
   "source": [
    "vocab = [sp.id_to_piece(i) for i in range(sp.get_piece_size())]\n",
    "plot_embeddings(model.word_level_embeddings(), vocab , title=\"Embeddings Before Training\")"
   ]
  },
  {
   "cell_type": "code",
   "execution_count": null,
   "metadata": {},
   "outputs": [],
   "source": [
    "from tqdm import tqdm \n",
    "\n",
    "# We will also define an optimizer:\n",
    "optimizer = torch.optim.SGD(model.parameters(), lr=1e0) # lr is the learning rate - this is our alpha\n",
    "\n",
    "print(\"Entering loop\")\n",
    "# And now, this is the training loop:\n",
    "losses = []\n",
    "for epoch in tqdm(range(20)):\n",
    "    optimizer.zero_grad()\n",
    "    tokens = sp.encode_as_ids(X_train)\n",
    "    tokens = pad_to_len(tokens, padding_idx, 100)\n",
    "    tokens = torch.tensor(tokens)\n",
    "    output = model(tokens)\n",
    "    output_probs = torch.sigmoid(output)\n",
    "    loss = torch.mean( (output_probs-y_train)**2 )\n",
    "    loss.backward()\n",
    "    optimizer.step()\n",
    "    losses.append(loss.item())"
   ]
  },
  {
   "cell_type": "code",
   "execution_count": null,
   "metadata": {},
   "outputs": [],
   "source": [
    "plt.figure(figsize=(5,3))\n",
    "plt.plot(losses)\n",
    "plt.xlabel('Epoch')\n",
    "plt.ylabel('Loss')\n",
    "plt.title('Training Loss over Epochs')\n",
    "plt.show()"
   ]
  },
  {
   "cell_type": "code",
   "execution_count": 25,
   "metadata": {},
   "outputs": [
    {
     "data": {
      "image/png": "[encoded data removed]",
      "text/plain": [
       "<Figure size 600x600 with 1 Axes>"
      ]
     },
     "metadata": {},
     "output_type": "display_data"
    }
   ],
   "source": [
    "plot_embeddings(model.word_level_embeddings(), id_to_word)"
   ]
  },
  {
   "cell_type": "markdown",
   "metadata": {},
   "source": [
    "### Evaluating the model\n",
    "\n",
    "We can convert our "
   ]
  },
  {
   "cell_type": "code",
   "execution_count": null,
   "metadata": {},
   "outputs": [
    {
     "name": "stdout",
     "output_type": "stream",
     "text": [
      "Accuracy: 0.42145964233929434\n",
      "F1 Score: 0.31795435298977587\n",
      "              precision    recall  f1-score   support\n",
      "\n",
      "           0       0.42      0.96      0.58       876\n",
      "           1       0.47      0.03      0.05      1193\n",
      "\n",
      "    accuracy                           0.42      2069\n",
      "   macro avg       0.45      0.49      0.32      2069\n",
      "weighted avg       0.45      0.42      0.28      2069\n",
      "\n"
     ]
    },
    {
     "ename": "",
     "evalue": "",
     "output_type": "error",
     "traceback": [
      "\u001b[1;31mThe Kernel crashed while executing code in the current cell or a previous cell. \n",
      "\u001b[1;31mPlease review the code in the cell(s) to identify a possible cause of the failure. \n",
      "\u001b[1;31mClick <a href='https://aka.ms/vscodeJupyterKernelCrash'>here</a> for more info. \n",
      "\u001b[1;31mView Jupyter <a href='command:jupyter.viewOutput'>log</a> for further details."
     ]
    }
   ],
   "source": [
    "from sklearn.metrics import accuracy_score, f1_score, classification_report\n",
    "\n",
    "# Get the predictions for the test set\n",
    "with torch.no_grad():\n",
    "    model.eval()\n",
    "    tokens = sp.encode_as_ids(X_test)\n",
    "    tokens = pad_to_len(tokens, padding_idx, 25)\n",
    "    tokens = torch.tensor(tokens)\n",
    "    output = model(tokens)\n",
    "    output_probs = torch.sigmoid(output)\n",
    "    predictions = (output_probs > 0.5).int().numpy()\n",
    "\n",
    "# Calculate the accuracy and F1 score\n",
    "accuracy = accuracy_score(\n",
    "    y_test,\n",
    "    predictions,\n",
    ")\n",
    "f1 = f1_score(\n",
    "    y_test,\n",
    "    predictions,\n",
    "    zero_division=0,\n",
    "    average='macro',\n",
    ")\n",
    "print(\"Accuracy:\", accuracy)\n",
    "print(\"F1 Score:\", f1)\n",
    "print(classification_report(\n",
    "    y_test,\n",
    "    predictions,\n",
    "    zero_division=0,\n",
    "))"
   ]
  },
  {
   "cell_type": "markdown",
   "metadata": {},
   "source": [
    "## Some steps on optimization\n",
    "\n",
    "You may have noticed that we are using the MSE loss in the code above. This is definitely not optimal, because reductions in MSE+ does not necessarily correspond to increases in accuracy. Instead, we could use the cross-entropy loss.\n",
    "\n",
    "### Cross-entropy loss\n",
    "\n",
    "The idea of the cross-entropy loss begins with the negative log likelihood (NLL). Is is usually written as:\n",
    "\n",
    "$$\n",
    "\\text{NLL} = - \\sum_i \\log{P(C_i = c_i|X_i)},\n",
    "$$\n",
    "\n",
    "where $C_i=c_i$ is the event that the predicted class $C_i$ for the $i$-th input $X_i$ is the correct class $c_i$.\n",
    "\n",
    "Note that NLL measures the likelihoood that the correct class will be predicted for each item $i$ in the dataset. Therefore, maximizing the negative log likelihood means minimizing the probability that a wrong class will be predicted. Importantly, this is *very* different from minimizing the MSE!\n",
    "\n",
    "We know that $P(C_i = c_i|X_i)$, in the logistic regressor, is the result of applying the sigmoid (logistic) function to the logits $z_i$. I will call $y_i = P(C_i = c_i|X_i)$ to make reading easier:\n",
    "\n",
    "$$\n",
    "y_i = \\sigma(z_i) = \\frac{1}{1+e^{-z_i}}\n",
    "$$\n",
    "\n",
    "\n",
    "\n",
    "We can substitute $y_i$ in the NLL equation to get:\n",
    "\n",
    "$$\n",
    "\\text{NLL} = - \\sum_i \\log{y_i} = -\\sum_i \\log{\\frac{1}{1+e^{-z_i}}},\n",
    "$$\n",
    "\n",
    "Remember that the log of a division is the subtraction of logs. Hence, we get:\n",
    "\n",
    "$$\n",
    "\\text{NLL} = -\\sum_i \\log{1} - \\log{1+e^{-z_i}} = -\\sum_i 0 - \\log{1+e^{-z_i}} = \\sum_i \\log{(1+e^{-z_i})}.\n",
    "$$\n",
    "\n",
    "Also, we are using SGD as the optimizer. The SGD optimizer uses a fixed-step optimization over the parameter space. A more modern approach is the Adam (Adaptive Momentum) optimizer, which adapts the step size so that smoother regions of the parameter space are swept more quickly, and rougher regions automatically lead to smaller steps.\n",
    "\n",
    "Then, the code becomes this:"
   ]
  },
  {
   "cell_type": "code",
   "execution_count": null,
   "metadata": {},
   "outputs": [
    {
     "name": "stdout",
     "output_type": "stream",
     "text": [
      "Entering loop\n"
     ]
    },
    {
     "name": "stderr",
     "output_type": "stream",
     "text": [
      "  4%|▎         | 7/200 [00:07<03:43,  1.16s/it]"
     ]
    }
   ],
   "source": [
    "from tqdm import tqdm\n",
    "\n",
    "# We will also define an optimizer:\n",
    "optimizer = torch.optim.Adam(\n",
    "    model.parameters(), lr=1e0)  # lr is the learning rate - this is our alpha\n",
    "\n",
    "print(\"Entering loop\")\n",
    "# And now, this is the training loop:\n",
    "losses = []\n",
    "model.train()\n",
    "for epoch in tqdm(range(2)):\n",
    "    optimizer.zero_grad()\n",
    "    tokens = sp.encode_as_ids(X_train)\n",
    "    tokens = pad_to_len(tokens, padding_idx, 100)\n",
    "    tokens = torch.tensor(tokens)\n",
    "    output = model(tokens)\n",
    "    loss = torch.mean(\n",
    "        torch.binary_cross_entropy_with_logits(\n",
    "            output.flatten().float(),\n",
    "            y_train.flatten().float(),\n",
    "        ), )\n",
    "    loss.backward()\n",
    "    optimizer.step()\n",
    "    losses.append(loss.item())\n"
   ]
  },
  {
   "cell_type": "code",
   "execution_count": null,
   "metadata": {},
   "outputs": [
    {
     "data": {
      "image/png": "[encoded data removed]",
      "text/plain": [
       "<Figure size 500x300 with 1 Axes>"
      ]
     },
     "metadata": {},
     "output_type": "display_data"
    }
   ],
   "source": [
    "import matplotlib.pyplot as plt\n",
    "\n",
    "plt.figure(figsize=(5,3))\n",
    "plt.plot(losses)\n",
    "plt.xlabel('Epoch')\n",
    "plt.ylabel('Loss')\n",
    "plt.title('Training Loss over Epochs')\n",
    "plt.show()"
   ]
  },
  {
   "cell_type": "code",
   "execution_count": null,
   "metadata": {},
   "outputs": [
    {
     "name": "stdout",
     "output_type": "stream",
     "text": [
      "Accuracy: 0.5964233929434509\n",
      "F1 Score: 0.5676211737646739\n",
      "              precision    recall  f1-score   support\n",
      "\n",
      "           0       0.52      0.41      0.46       862\n",
      "           1       0.63      0.73      0.68      1207\n",
      "\n",
      "    accuracy                           0.60      2069\n",
      "   macro avg       0.58      0.57      0.57      2069\n",
      "weighted avg       0.59      0.60      0.59      2069\n",
      "\n"
     ]
    }
   ],
   "source": [
    "from sklearn.metrics import accuracy_score, f1_score, classification_report\n",
    "\n",
    "# Get the predictions for the test set\n",
    "with torch.no_grad():\n",
    "    model.eval()\n",
    "    tokens = sp.encode_as_ids(X_test)\n",
    "    tokens = pad_to_len(tokens, padding_idx, 25)\n",
    "    tokens = torch.tensor(tokens)\n",
    "    output = model(tokens)\n",
    "    output_probs = torch.sigmoid(output)\n",
    "    predictions = (output_probs > 0.5).int().numpy()\n",
    "\n",
    "# Calculate the accuracy and F1 score\n",
    "accuracy = accuracy_score(\n",
    "    y_test,\n",
    "    predictions,\n",
    ")\n",
    "f1 = f1_score(\n",
    "    y_test,\n",
    "    predictions,\n",
    "    zero_division=0,\n",
    "    average='macro',\n",
    ")\n",
    "print(\"Accuracy:\", accuracy)\n",
    "print(\"F1 Score:\", f1)\n",
    "print(classification_report(\n",
    "    y_test,\n",
    "    predictions,\n",
    "    zero_division=0,\n",
    "))"
   ]
  },
  {
   "cell_type": "markdown",
   "metadata": {},
   "source": [
    "## Exercises\n",
    "\n",
    "### 1 - Visualizing embeddings\n",
    "\n",
    "Change the code for the `SimpleClassifier` class by adding a method that returns the word-level embeddings. Then, calculate the embedding for each word in your vocabulary. Plot the embeddings before training the model, and then after training the model. Do you see a pattern there?"
   ]
  },
  {
   "cell_type": "markdown",
   "metadata": {},
   "source": [
    "### 2 - Further optimization\n",
    "\n",
    "Review the whole code for the classifier. Identify all parameters you can change. Identify the possible performance bottlenecks, change the parameters to reduce these bottlenecks, and then run the training process again. Do you see changes?\n",
    "\n",
    "### 3 - Advanced modelling\n",
    "\n",
    "Change the `forward` method in `SimpleClassifier` so that the mean only accounts for non-PAD tokens (that is: PAD tokens are ignored). Does that improve performance?"
   ]
  },
  {
   "cell_type": "markdown",
   "metadata": {},
   "source": []
  }
 ],
 "metadata": {
  "kernelspec": {
   "display_name": "env",
   "language": "python",
   "name": "python3"
  },
  "language_info": {
   "codemirror_mode": {
    "name": "ipython",
    "version": 3
   },
   "file_extension": ".py",
   "mimetype": "text/x-python",
   "name": "python",
   "nbconvert_exporter": "python",
   "pygments_lexer": "ipython3",
   "version": "3.12.0"
  }
 },
 "nbformat": 4,
 "nbformat_minor": 2
}
