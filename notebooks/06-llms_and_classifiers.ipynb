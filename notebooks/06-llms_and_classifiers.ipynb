{
 "cells": [
  {
   "cell_type": "markdown",
   "metadata": {},
   "source": [
    "# TEST 1: Leveraging LLMs for Feature Generation and Classification\n",
    "\n",
    "Typically, if our data has $N$ features, we need around $10N$ data items to reach peak performance with classic classifiers like Logistic Regression. Therefore, if our vocabulary has 10,000 words, we would need around 1 million items in the training set to reach peak performance.\n",
    "\n",
    "An interesting idea regarding this was explored in 2024 in [Balek, V., S'ykora, L., Sklen'ak, V., & Kliegr, T. (2024). LLM-based feature generation from text for interpretable machine learning. ArXiv, abs/2409.07132](https://arxiv.org/abs/2409.07132). The idea is to use an LLM to generate meaningful and interpretable features from text, and then use Logistic Regression for classification.\n",
    "\n",
    "For example, in the movie plots dataset, we could have features like:\n",
    "- \"Is the protagonist an animal?\" (0 or 1)\n",
    "- \"Does the plot indicate psychological suffering?\" (0 or 1)\n",
    "\n",
    "With a reasonable number of these features, our model could make predictions based on meaningful features instead of raw words.\n",
    "\n",
    "## Objectives\n",
    "* Perform feature extraction for a particular dataset\n",
    "* Compare performance and explainability of classifiers with different approaches. \n",
    "\n",
    "## Rules\n",
    "\n",
    "I highlight a few elements of our usual rules:\n",
    "\n",
    "* You are **NOT ALLOWED** to use AI to generate any code you are asked to make yourself. This includes ChatGPT, CoPilot and all similar generators.\n",
    "* You are **NOT ALLOWED** to use Google or any other search engine.\n",
    "* You are **ALLOWED** to use the offical documentations for libraries: \n",
    "    * [sklearn](https://scikit-learn.org/)\n",
    "    * [numpy](https://numpy.org/)\n",
    "    * [matplotlib](https://matplotlib.org/)\n",
    "    * [google AI studio](https://aistudio.google.com/)\n",
    "* You are **ALLOWED** to use previous code from this course as basis.\n",
    "* You **MUST** use the university's proctoring software to show you are complying with these rules\n",
    "* This task is **INDIVIDUAL**. DO NOT share your code or results with anyone else.\n",
    "\n",
    "## Tasks and Deliverables\n",
    "\n",
    "* At any point, refer to [Balek et al.](https://arxiv.org/abs/2409.07132). \n",
    "* Make a well-commented code to solve each one of the tasks below.\n",
    "* Each task will be evaluated as:\n",
    "    * Insufficient: task is not done, off-topic, or low-effort\n",
    "    * In process: task is incomplete, done with a clear conceptual error, or comments \n",
    "    * Proficient: everything works and comments are enough to understand what is being done\n",
    "    * Advanced: everything works, comments are enough to understand what is being done, and code is well organized and formated using functions, dataclasses, and other adequate structures.\n",
    "* This task should be finished by the end of the class.\n",
    "* After you are finished, submit the executed notebook in our LMS system.\n",
    "\n",
    "\n"
   ]
  },
  {
   "cell_type": "code",
   "execution_count": 6,
   "metadata": {},
   "outputs": [
    {
     "data": {
      "text/html": [
       "<div>\n",
       "<style scoped>\n",
       "    .dataframe tbody tr th:only-of-type {\n",
       "        vertical-align: middle;\n",
       "    }\n",
       "\n",
       "    .dataframe tbody tr th {\n",
       "        vertical-align: top;\n",
       "    }\n",
       "\n",
       "    .dataframe thead th {\n",
       "        text-align: right;\n",
       "    }\n",
       "</style>\n",
       "<table border=\"1\" class=\"dataframe\">\n",
       "  <thead>\n",
       "    <tr style=\"text-align: right;\">\n",
       "      <th></th>\n",
       "      <th>Plot</th>\n",
       "      <th>Genre</th>\n",
       "    </tr>\n",
       "  </thead>\n",
       "  <tbody>\n",
       "    <tr>\n",
       "      <th>0</th>\n",
       "      <td>The film is about a family who move to the sub...</td>\n",
       "      <td>comedy</td>\n",
       "    </tr>\n",
       "    <tr>\n",
       "      <th>1</th>\n",
       "      <td>Before heading out to a baseball game at a nea...</td>\n",
       "      <td>comedy</td>\n",
       "    </tr>\n",
       "    <tr>\n",
       "      <th>2</th>\n",
       "      <td>The plot is that of a black woman going to the...</td>\n",
       "      <td>comedy</td>\n",
       "    </tr>\n",
       "    <tr>\n",
       "      <th>3</th>\n",
       "      <td>On a beautiful summer day a father and mother ...</td>\n",
       "      <td>drama</td>\n",
       "    </tr>\n",
       "    <tr>\n",
       "      <th>4</th>\n",
       "      <td>A thug accosts a girl as she leaves her workpl...</td>\n",
       "      <td>drama</td>\n",
       "    </tr>\n",
       "  </tbody>\n",
       "</table>\n",
       "</div>"
      ],
      "text/plain": [
       "                                                Plot   Genre\n",
       "0  The film is about a family who move to the sub...  comedy\n",
       "1  Before heading out to a baseball game at a nea...  comedy\n",
       "2  The plot is that of a black woman going to the...  comedy\n",
       "3  On a beautiful summer day a father and mother ...   drama\n",
       "4  A thug accosts a girl as she leaves her workpl...   drama"
      ]
     },
     "execution_count": 6,
     "metadata": {},
     "output_type": "execute_result"
    }
   ],
   "source": [
    "import pandas as pd\n",
    "\n",
    "df = pd.read_csv('https://raw.githubusercontent.com/tiagoft/NLP/main/wiki_movie_plots_drama_comedy.csv')\n",
    "df.head()"
   ]
  },
  {
   "cell_type": "code",
   "execution_count": 18,
   "metadata": {},
   "outputs": [],
   "source": [
    "import os\n",
    "from dotenv import load_dotenv\n",
    "import google.generativeai as genai\n",
    "\n",
    "load_dotenv()\n",
    "\n",
    "GEMINI_API_KEY = os.getenv('GEMINI_API_KEY')\n",
    "genai.configure(api_key=GEMINI_API_KEY)"
   ]
  },
  {
   "cell_type": "code",
   "execution_count": null,
   "metadata": {},
   "outputs": [
    {
     "name": "stdout",
     "output_type": "stream",
     "text": [
      "```python\n",
      "questions = [\n",
      "    \"Does the plot involve a significant amount of physical humor or slapstick?\",\n",
      "    \"Is the overall tone of the plot lighthearted and intended to evoke laughter?\",\n",
      "    \"Does the plot focus on resolving a serious conflict or exploring complex emotions?\",\n",
      "    \"Are the characters primarily driven by comedic misunderstandings or witty banter?\",\n",
      "    \"Does the plot conclude with a happy or satisfying resolution, or does it leave the audience with a sense of unease or sadness?\"\n",
      "]\n",
      "```\n",
      "\n"
     ]
    }
   ],
   "source": [
    "prompt = f\"\"\"\n",
    "I would like to segregate texts between drama and comedy. \n",
    "Using the texts provided create 5 short questions to try to segregate this type of texts.\n",
    "{df.head(5)}\n",
    "The output should be a just a list of questions, ready to be used in python syntax\"\"\"\n",
    "\n",
    "generation_config = genai.GenerationConfig(\n",
    "    max_output_tokens=500,\n",
    "    temperature=0.0,\n",
    ")\n",
    "\n",
    "model = genai.GenerativeModel(model_name=\"gemini-1.5-flash\")\n",
    "response = model.generate_content(prompt, generation_config=generation_config)\n",
    "\n",
    "print(response.text)"
   ]
  },
  {
   "cell_type": "markdown",
   "metadata": {},
   "source": [
    "### 1. Dataset Preparation:\n",
    "Adapting Balek et al.'s strategy to our movie plot classification case, create a dataset with at least 100 labeled items and at least 5 meaningful features. None of the features can be the class itself (\"is this a drama plot?\"). Use a clear strategy to avoid exceeding free tier quotas. Store data locally in a format of your choice."
   ]
  },
  {
   "cell_type": "code",
   "execution_count": 7,
   "metadata": {},
   "outputs": [],
   "source": [
    "sdf = df.head(100)"
   ]
  },
  {
   "cell_type": "code",
   "execution_count": 8,
   "metadata": {},
   "outputs": [],
   "source": [
    "features = [\n",
    "    \"Does the plot involve a significant amount of physical humor or slapstick?\",\n",
    "    \"Is the overall tone of the plot lighthearted and intended to evoke laughter?\",\n",
    "    \"Does the plot focus on resolving a serious conflict or exploring complex emotions?\",\n",
    "    \"Are the characters primarily driven by comedic misunderstandings or witty banter?\",\n",
    "    \"Does the plot conclude with a happy or satisfying resolution, or does it leave the audience with a sense of unease or sadness?\"\n",
    "]"
   ]
  },
  {
   "cell_type": "markdown",
   "metadata": {},
   "source": [
    "\n",
    "### 2. Classification:\n",
    "Use the generated features to train a Logistic Regression model. Use cross-validation to select the best hyperparameters. Report accuracy and f1-score for your classifier.\n"
   ]
  },
  {
   "cell_type": "code",
   "execution_count": null,
   "metadata": {},
   "outputs": [],
   "source": [
    "import numpy as np\n",
    "\n",
    "for q in features:\n",
    "  sdf = sdf.assign(**{q: [np.nan]*100})"
   ]
  },
  {
   "cell_type": "code",
   "execution_count": 16,
   "metadata": {},
   "outputs": [],
   "source": [
    "text = sdf[\"Plot\"]"
   ]
  },
  {
   "cell_type": "code",
   "execution_count": 30,
   "metadata": {},
   "outputs": [],
   "source": [
    "def get_classification(text):\n",
    "    prompt = f\"\"\"\n",
    "    I have a text and 5 questions. I would like to use the text to answer the questions.\n",
    "    The output should be just a list that contains boolean values like: [1,0,1,0,0], I don't want any text, just the list.\n",
    "    Text: {text}\n",
    "    Questions: {features}\n",
    "    \"\"\"\n",
    "\n",
    "    generation_config = genai.GenerationConfig(\n",
    "        max_output_tokens=500,\n",
    "        temperature=0.0,\n",
    "    )\n",
    "\n",
    "    model = genai.GenerativeModel(model_name=\"gemini-1.5-flash\")\n",
    "    response = model.generate_content(prompt, generation_config=generation_config)\n",
    "    return response.text"
   ]
  },
  {
   "cell_type": "code",
   "execution_count": 40,
   "metadata": {},
   "outputs": [
    {
     "name": "stderr",
     "output_type": "stream",
     "text": [
      "Processando: 100%|██████████| 100/100 [09:12<00:00,  5.53s/it]\n"
     ]
    }
   ],
   "source": [
    "import time\n",
    "from tqdm import tqdm\n",
    "\n",
    "for i, row in tqdm(sdf.iterrows(), total=len(sdf), desc=\"Processando\"):\n",
    "    response = get_classification(row)\n",
    "    sdf.loc[i, features] = [int(i) for i in response if i.isdigit()]\n",
    "    time.sleep(5)"
   ]
  },
  {
   "cell_type": "code",
   "execution_count": 41,
   "metadata": {},
   "outputs": [
    {
     "data": {
      "text/html": [
       "<div>\n",
       "<style scoped>\n",
       "    .dataframe tbody tr th:only-of-type {\n",
       "        vertical-align: middle;\n",
       "    }\n",
       "\n",
       "    .dataframe tbody tr th {\n",
       "        vertical-align: top;\n",
       "    }\n",
       "\n",
       "    .dataframe thead th {\n",
       "        text-align: right;\n",
       "    }\n",
       "</style>\n",
       "<table border=\"1\" class=\"dataframe\">\n",
       "  <thead>\n",
       "    <tr style=\"text-align: right;\">\n",
       "      <th></th>\n",
       "      <th>Plot</th>\n",
       "      <th>Genre</th>\n",
       "      <th>Does the plot involve a significant amount of physical humor or slapstick?</th>\n",
       "      <th>Is the overall tone of the plot lighthearted and intended to evoke laughter?</th>\n",
       "      <th>Does the plot focus on resolving a serious conflict or exploring complex emotions?</th>\n",
       "      <th>Are the characters primarily driven by comedic misunderstandings or witty banter?</th>\n",
       "      <th>Does the plot conclude with a happy or satisfying resolution, or does it leave the audience with a sense of unease or sadness?</th>\n",
       "    </tr>\n",
       "  </thead>\n",
       "  <tbody>\n",
       "    <tr>\n",
       "      <th>0</th>\n",
       "      <td>The film is about a family who move to the sub...</td>\n",
       "      <td>comedy</td>\n",
       "      <td>0.0</td>\n",
       "      <td>1.0</td>\n",
       "      <td>0.0</td>\n",
       "      <td>0.0</td>\n",
       "      <td>0.0</td>\n",
       "    </tr>\n",
       "    <tr>\n",
       "      <th>1</th>\n",
       "      <td>Before heading out to a baseball game at a nea...</td>\n",
       "      <td>comedy</td>\n",
       "      <td>0.0</td>\n",
       "      <td>1.0</td>\n",
       "      <td>0.0</td>\n",
       "      <td>0.0</td>\n",
       "      <td>0.0</td>\n",
       "    </tr>\n",
       "    <tr>\n",
       "      <th>2</th>\n",
       "      <td>The plot is that of a black woman going to the...</td>\n",
       "      <td>comedy</td>\n",
       "      <td>0.0</td>\n",
       "      <td>1.0</td>\n",
       "      <td>0.0</td>\n",
       "      <td>0.0</td>\n",
       "      <td>0.0</td>\n",
       "    </tr>\n",
       "    <tr>\n",
       "      <th>3</th>\n",
       "      <td>On a beautiful summer day a father and mother ...</td>\n",
       "      <td>drama</td>\n",
       "      <td>0.0</td>\n",
       "      <td>0.0</td>\n",
       "      <td>1.0</td>\n",
       "      <td>0.0</td>\n",
       "      <td>0.0</td>\n",
       "    </tr>\n",
       "    <tr>\n",
       "      <th>4</th>\n",
       "      <td>A thug accosts a girl as she leaves her workpl...</td>\n",
       "      <td>drama</td>\n",
       "      <td>0.0</td>\n",
       "      <td>0.0</td>\n",
       "      <td>1.0</td>\n",
       "      <td>0.0</td>\n",
       "      <td>0.0</td>\n",
       "    </tr>\n",
       "  </tbody>\n",
       "</table>\n",
       "</div>"
      ],
      "text/plain": [
       "                                                Plot   Genre  \\\n",
       "0  The film is about a family who move to the sub...  comedy   \n",
       "1  Before heading out to a baseball game at a nea...  comedy   \n",
       "2  The plot is that of a black woman going to the...  comedy   \n",
       "3  On a beautiful summer day a father and mother ...   drama   \n",
       "4  A thug accosts a girl as she leaves her workpl...   drama   \n",
       "\n",
       "   Does the plot involve a significant amount of physical humor or slapstick?  \\\n",
       "0                                                0.0                            \n",
       "1                                                0.0                            \n",
       "2                                                0.0                            \n",
       "3                                                0.0                            \n",
       "4                                                0.0                            \n",
       "\n",
       "   Is the overall tone of the plot lighthearted and intended to evoke laughter?  \\\n",
       "0                                                1.0                              \n",
       "1                                                1.0                              \n",
       "2                                                1.0                              \n",
       "3                                                0.0                              \n",
       "4                                                0.0                              \n",
       "\n",
       "   Does the plot focus on resolving a serious conflict or exploring complex emotions?  \\\n",
       "0                                                0.0                                    \n",
       "1                                                0.0                                    \n",
       "2                                                0.0                                    \n",
       "3                                                1.0                                    \n",
       "4                                                1.0                                    \n",
       "\n",
       "   Are the characters primarily driven by comedic misunderstandings or witty banter?  \\\n",
       "0                                                0.0                                   \n",
       "1                                                0.0                                   \n",
       "2                                                0.0                                   \n",
       "3                                                0.0                                   \n",
       "4                                                0.0                                   \n",
       "\n",
       "   Does the plot conclude with a happy or satisfying resolution, or does it leave the audience with a sense of unease or sadness?  \n",
       "0                                                0.0                                                                               \n",
       "1                                                0.0                                                                               \n",
       "2                                                0.0                                                                               \n",
       "3                                                0.0                                                                               \n",
       "4                                                0.0                                                                               "
      ]
     },
     "execution_count": 41,
     "metadata": {},
     "output_type": "execute_result"
    }
   ],
   "source": [
    "sdf.head()"
   ]
  },
  {
   "cell_type": "code",
   "execution_count": 45,
   "metadata": {},
   "outputs": [],
   "source": [
    "sdf.to_csv('out1.csv', index=False)"
   ]
  },
  {
   "cell_type": "markdown",
   "metadata": {},
   "source": [
    "\n",
    "### 3. Performance Comparison\n",
    "Compare the performance of the following approaches:\n",
    "1. Traditional Bag-of-Words\n",
    "2. LLM-generated features with Logistic Regression\n",
    "3. Direct classification using LLM\n",
    "\n",
    "Use a bar plot to show the performance differences (choose either accuracy or F1-score).\n",
    "\n",
    "### 4. Improvement Strategies\n",
    "Determine whether labeling more items would improve system performance. Use data to justify your answer."
   ]
  },
  {
   "cell_type": "code",
   "execution_count": null,
   "metadata": {},
   "outputs": [],
   "source": [
    "\n"
   ]
  }
 ],
 "metadata": {
  "kernelspec": {
   "display_name": "env",
   "language": "python",
   "name": "python3"
  },
  "language_info": {
   "codemirror_mode": {
    "name": "ipython",
    "version": 3
   },
   "file_extension": ".py",
   "mimetype": "text/x-python",
   "name": "python",
   "nbconvert_exporter": "python",
   "pygments_lexer": "ipython3",
   "version": "3.12.0"
  }
 },
 "nbformat": 4,
 "nbformat_minor": 2
}
