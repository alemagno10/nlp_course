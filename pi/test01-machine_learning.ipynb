{
 "cells": [
  {
   "cell_type": "markdown",
   "metadata": {},
   "source": [
    "# NLP - Prova 1\n",
    "\n",
    "Nesta prova, utilizaremos um dataset fornecido por uma empresa de e-commerce. Trata-se de um dataset que contém reviews de pedidos feitos na Internet ou através do aplicativo. Cada review tem uma nota (*score*) que vai de 1 (muito ruim) a 5 (muito bom). Também, cada review tem uma mensagem deixada pelo cliente, que pode esclarecer o que levou à atribuição da nota. O dataset é o seguinte:"
   ]
  },
  {
   "cell_type": "code",
   "execution_count": null,
   "metadata": {},
   "outputs": [
    {
     "data": {
      "text/html": [
       "<div>\n",
       "<style scoped>\n",
       "    .dataframe tbody tr th:only-of-type {\n",
       "        vertical-align: middle;\n",
       "    }\n",
       "\n",
       "    .dataframe tbody tr th {\n",
       "        vertical-align: top;\n",
       "    }\n",
       "\n",
       "    .dataframe thead th {\n",
       "        text-align: right;\n",
       "    }\n",
       "</style>\n",
       "<table border=\"1\" class=\"dataframe\">\n",
       "  <thead>\n",
       "    <tr style=\"text-align: right;\">\n",
       "      <th></th>\n",
       "      <th>review_id</th>\n",
       "      <th>review_score</th>\n",
       "      <th>review_comment_message</th>\n",
       "    </tr>\n",
       "  </thead>\n",
       "  <tbody>\n",
       "    <tr>\n",
       "      <th>0</th>\n",
       "      <td>e64fb393e7b32834bb789ff8bb30750e</td>\n",
       "      <td>5</td>\n",
       "      <td>Recebi bem antes do prazo estipulado.</td>\n",
       "    </tr>\n",
       "    <tr>\n",
       "      <th>1</th>\n",
       "      <td>f7c4243c7fe1938f181bec41a392bdeb</td>\n",
       "      <td>5</td>\n",
       "      <td>Parabéns lojas lannister adorei comprar pela I...</td>\n",
       "    </tr>\n",
       "    <tr>\n",
       "      <th>2</th>\n",
       "      <td>8670d52e15e00043ae7de4c01cc2fe06</td>\n",
       "      <td>4</td>\n",
       "      <td>aparelho eficiente. no site a marca do aparelh...</td>\n",
       "    </tr>\n",
       "    <tr>\n",
       "      <th>3</th>\n",
       "      <td>4b49719c8a200003f700d3d986ea1a19</td>\n",
       "      <td>4</td>\n",
       "      <td>Mas um pouco ,travando...pelo valor ta Boa.\\r\\n</td>\n",
       "    </tr>\n",
       "    <tr>\n",
       "      <th>4</th>\n",
       "      <td>3948b09f7c818e2d86c9a546758b2335</td>\n",
       "      <td>5</td>\n",
       "      <td>Vendedor confiável, produto ok e entrega antes...</td>\n",
       "    </tr>\n",
       "  </tbody>\n",
       "</table>\n",
       "</div>"
      ],
      "text/plain": [
       "                          review_id  review_score  \\\n",
       "0  e64fb393e7b32834bb789ff8bb30750e             5   \n",
       "1  f7c4243c7fe1938f181bec41a392bdeb             5   \n",
       "2  8670d52e15e00043ae7de4c01cc2fe06             4   \n",
       "3  4b49719c8a200003f700d3d986ea1a19             4   \n",
       "4  3948b09f7c818e2d86c9a546758b2335             5   \n",
       "\n",
       "                              review_comment_message  \n",
       "0              Recebi bem antes do prazo estipulado.  \n",
       "1  Parabéns lojas lannister adorei comprar pela I...  \n",
       "2  aparelho eficiente. no site a marca do aparelh...  \n",
       "3    Mas um pouco ,travando...pelo valor ta Boa.\\r\\n  \n",
       "4  Vendedor confiável, produto ok e entrega antes...  "
      ]
     },
     "execution_count": 1,
     "metadata": {},
     "output_type": "execute_result"
    }
   ],
   "source": [
    "import pandas as pd \n",
    "df = pd.read_csv('reviews.csv')\n",
    "df.head()"
   ]
  },
  {
   "cell_type": "markdown",
   "metadata": {},
   "source": [
    "A empresa, porém, gostaria de saber quais são os aspectos em que pode melhorar. Para fazer isso, jogou todos os reviews em um LLM (o procedimento para isso está em `consultar_llm.py`, que acompanha este notebook), e então coletou as respostas. Em sua execução, o LLM retornou o seguinte:"
   ]
  },
  {
   "cell_type": "markdown",
   "metadata": {},
   "source": [
    "## RESPOSTA DO LLM\n",
    "\n",
    "Para identificar os elementos mais elogiados e reclamados, vou analisar as avaliações buscando palavras-chave e temas recorrentes.\n",
    "\n",
    "**Elogios Mais Comuns:**\n",
    "\n",
    "*   **Entrega Rápida/No Prazo:** Este é o elogio mais frequente. Termos como \"chegou antes do prazo\", \"entrega rápida\", \"no prazo\" aparecem repetidamente.\n",
    "*   **Produto Bom/Excelente Qualidade:** Muitos clientes expressam satisfação com a qualidade do produto em si. Palavras como \"excelente\", \"bom\", \"perfeito\", \"recomendo\", \"atendeu minhas expectativas\", \"cumpre o que promete\" são comuns.\n",
    "*   **Bom Atendimento/Comunicação:** Alguns clientes elogiam a comunicação clara e eficiente com o vendedor.\n",
    "*   **Embalagem:** Alguns clientes elogiaram a forma como o produto foi embalado.\n",
    "\n",
    "**Reclamações Mais Comuns:**\n",
    "\n",
    "*   **Não Recebimento do Produto:** Esta é a reclamação mais grave e frequente. Várias avaliações mencionam \"não recebi o produto\" ou \"ainda não recebi\".\n",
    "*   **Atraso na Entrega:** Mesmo quando o produto é entregue, o atraso é uma reclamação comum.\n",
    "*   **Produto com Defeito/Danificado:** Alguns clientes relatam receber produtos com defeito, amassados ou com peças faltando.\n",
    "*   **Produto Errado:** Alguns clientes relatam ter recebido o produto errado.\n",
    "*   **Problemas com a Compra/Cancelamento:** Alguns clientes relatam problemas com o cancelamento da compra.\n",
    "*   **Problemas com a Comunicação:** Alguns clientes reclamam da dificuldade em se comunicar com o vendedor após a compra ou da falta de resposta às suas dúvidas.\n",
    "*   **Voltagem Errada:** Um cliente reclamou que o produto veio com a voltagem errada.\n",
    "*   **Qualidade do Produto Abaixo do Esperado:** Alguns clientes expressam insatisfação com a qualidade do produto, mencionando material ruim, acabamento imperfeito ou falsificação.\n",
    "*   **Problemas com a Entrega pelos Correios:** Um cliente reclamou do serviço dos correios.\n",
    "\n",
    "**Resumo:**\n",
    "\n",
    "*   **Elogios:** Entrega rápida/no prazo e boa qualidade do produto são os pontos fortes.\n",
    "*   **Reclamações:** Problemas com a entrega (não recebimento, atraso) e produtos com defeito/qualidade inferior são os principais pontos fracos.\n",
    "\n",
    "**Recomendações:**\n",
    "\n",
    "A empresa deve priorizar a melhoria dos processos de entrega para garantir que os produtos cheguem aos clientes no prazo e em perfeitas condições. Além disso, deve investir no controle de qualidade dos produtos e na comunicação com os clientes para resolver problemas de forma rápida e eficiente.\n"
   ]
  },
  {
   "cell_type": "markdown",
   "metadata": {},
   "source": [
    "## Discussão\n",
    "\n",
    "Mesmo que o LLM possa dar pistas importantes para o desenvolvimento desta solução, há um problemaa fundamental em simplesmente \"acreditar\" nessa resposta: ela não tem base em dados nem em uma metodologia científica, então é impossível criticá-la, replicá-la ou saber de suas limitações.\n",
    "\n",
    "A tarefa neste exercício é encontrar dados, usando metodologias clássicas de NLP, que corroborem ou que contradigam a conclusão trazida pelo LLM.\n"
   ]
  },
  {
   "cell_type": "markdown",
   "metadata": {},
   "source": [
    "# Exercícios"
   ]
  },
  {
   "cell_type": "markdown",
   "metadata": {},
   "source": [
    "## Exercício 1\n",
    "\n",
    "Faça e avalie (usando uma métrica) um modelo preditivo baseado no modelo Bag-of-Words capaz de prever, à partir do texto do review, se ele será positivo (notas 4 ou 5) ou negativo (notas 1, 2 ou 3). Use estratégias adequadas para mostrar que o modelo não está enviesado (por exemplo, retornando sempre 'positivo' para o review). Justifique todas as suas decisões (tipo de vetorizador, tipo de classificador, métrica(s) usada(s) para avaliação) em comentários no código.\n",
    "\n",
    "Dica: `df['positivo'] = df['review_score'].apply(lambda x: x > 3)`"
   ]
  },
  {
   "cell_type": "code",
   "execution_count": 13,
   "metadata": {},
   "outputs": [],
   "source": [
    "df['positivo'] = df['review_score'].apply(lambda x: x > 3)"
   ]
  },
  {
   "cell_type": "code",
   "execution_count": null,
   "metadata": {},
   "outputs": [
    {
     "data": {
      "text/html": [
       "<div>\n",
       "<style scoped>\n",
       "    .dataframe tbody tr th:only-of-type {\n",
       "        vertical-align: middle;\n",
       "    }\n",
       "\n",
       "    .dataframe tbody tr th {\n",
       "        vertical-align: top;\n",
       "    }\n",
       "\n",
       "    .dataframe thead th {\n",
       "        text-align: right;\n",
       "    }\n",
       "</style>\n",
       "<table border=\"1\" class=\"dataframe\">\n",
       "  <thead>\n",
       "    <tr style=\"text-align: right;\">\n",
       "      <th></th>\n",
       "      <th>review_id</th>\n",
       "      <th>review_score</th>\n",
       "      <th>review_comment_message</th>\n",
       "      <th>positivo</th>\n",
       "    </tr>\n",
       "  </thead>\n",
       "  <tbody>\n",
       "    <tr>\n",
       "      <th>0</th>\n",
       "      <td>e64fb393e7b32834bb789ff8bb30750e</td>\n",
       "      <td>5</td>\n",
       "      <td>Recebi bem antes do prazo estipulado.</td>\n",
       "      <td>True</td>\n",
       "    </tr>\n",
       "    <tr>\n",
       "      <th>1</th>\n",
       "      <td>f7c4243c7fe1938f181bec41a392bdeb</td>\n",
       "      <td>5</td>\n",
       "      <td>Parabéns lojas lannister adorei comprar pela I...</td>\n",
       "      <td>True</td>\n",
       "    </tr>\n",
       "    <tr>\n",
       "      <th>2</th>\n",
       "      <td>8670d52e15e00043ae7de4c01cc2fe06</td>\n",
       "      <td>4</td>\n",
       "      <td>aparelho eficiente. no site a marca do aparelh...</td>\n",
       "      <td>True</td>\n",
       "    </tr>\n",
       "    <tr>\n",
       "      <th>3</th>\n",
       "      <td>4b49719c8a200003f700d3d986ea1a19</td>\n",
       "      <td>4</td>\n",
       "      <td>Mas um pouco ,travando...pelo valor ta Boa.\\r\\n</td>\n",
       "      <td>True</td>\n",
       "    </tr>\n",
       "    <tr>\n",
       "      <th>4</th>\n",
       "      <td>3948b09f7c818e2d86c9a546758b2335</td>\n",
       "      <td>5</td>\n",
       "      <td>Vendedor confiável, produto ok e entrega antes...</td>\n",
       "      <td>True</td>\n",
       "    </tr>\n",
       "    <tr>\n",
       "      <th>...</th>\n",
       "      <td>...</td>\n",
       "      <td>...</td>\n",
       "      <td>...</td>\n",
       "      <td>...</td>\n",
       "    </tr>\n",
       "    <tr>\n",
       "      <th>40972</th>\n",
       "      <td>98fffa80dc9acbde7388bef1600f3b15</td>\n",
       "      <td>4</td>\n",
       "      <td>para este produto recebi de acordo com a compr...</td>\n",
       "      <td>True</td>\n",
       "    </tr>\n",
       "    <tr>\n",
       "      <th>40973</th>\n",
       "      <td>df5fae90e85354241d5d64a8955b2b09</td>\n",
       "      <td>5</td>\n",
       "      <td>Entregou dentro do prazo. O produto chegou em ...</td>\n",
       "      <td>True</td>\n",
       "    </tr>\n",
       "    <tr>\n",
       "      <th>40974</th>\n",
       "      <td>a709d176f59bc3af77f4149c96bae357</td>\n",
       "      <td>3</td>\n",
       "      <td>O produto não foi enviado com NF, não existe v...</td>\n",
       "      <td>False</td>\n",
       "    </tr>\n",
       "    <tr>\n",
       "      <th>40975</th>\n",
       "      <td>b3de70c89b1510c4cd3d0649fd302472</td>\n",
       "      <td>5</td>\n",
       "      <td>Excelente mochila, entrega super rápida. Super...</td>\n",
       "      <td>True</td>\n",
       "    </tr>\n",
       "    <tr>\n",
       "      <th>40976</th>\n",
       "      <td>efe49f1d6f951dd88b51e6ccd4cc548f</td>\n",
       "      <td>1</td>\n",
       "      <td>meu produto chegou e ja tenho que devolver, po...</td>\n",
       "      <td>False</td>\n",
       "    </tr>\n",
       "  </tbody>\n",
       "</table>\n",
       "<p>40977 rows × 4 columns</p>\n",
       "</div>"
      ],
      "text/plain": [
       "                              review_id  review_score  \\\n",
       "0      e64fb393e7b32834bb789ff8bb30750e             5   \n",
       "1      f7c4243c7fe1938f181bec41a392bdeb             5   \n",
       "2      8670d52e15e00043ae7de4c01cc2fe06             4   \n",
       "3      4b49719c8a200003f700d3d986ea1a19             4   \n",
       "4      3948b09f7c818e2d86c9a546758b2335             5   \n",
       "...                                 ...           ...   \n",
       "40972  98fffa80dc9acbde7388bef1600f3b15             4   \n",
       "40973  df5fae90e85354241d5d64a8955b2b09             5   \n",
       "40974  a709d176f59bc3af77f4149c96bae357             3   \n",
       "40975  b3de70c89b1510c4cd3d0649fd302472             5   \n",
       "40976  efe49f1d6f951dd88b51e6ccd4cc548f             1   \n",
       "\n",
       "                                  review_comment_message  positivo  \n",
       "0                  Recebi bem antes do prazo estipulado.      True  \n",
       "1      Parabéns lojas lannister adorei comprar pela I...      True  \n",
       "2      aparelho eficiente. no site a marca do aparelh...      True  \n",
       "3        Mas um pouco ,travando...pelo valor ta Boa.\\r\\n      True  \n",
       "4      Vendedor confiável, produto ok e entrega antes...      True  \n",
       "...                                                  ...       ...  \n",
       "40972  para este produto recebi de acordo com a compr...      True  \n",
       "40973  Entregou dentro do prazo. O produto chegou em ...      True  \n",
       "40974  O produto não foi enviado com NF, não existe v...     False  \n",
       "40975  Excelente mochila, entrega super rápida. Super...      True  \n",
       "40976  meu produto chegou e ja tenho que devolver, po...     False  \n",
       "\n",
       "[40977 rows x 4 columns]"
      ]
     },
     "execution_count": 6,
     "metadata": {},
     "output_type": "execute_result"
    }
   ],
   "source": []
  },
  {
   "cell_type": "code",
   "execution_count": null,
   "metadata": {},
   "outputs": [
    {
     "data": {
      "text/plain": [
       "0.8868316317702024"
      ]
     },
     "execution_count": 40,
     "metadata": {},
     "output_type": "execute_result"
    }
   ],
   "source": [
    "#exercicio1\n",
    "#não apague o comentário acima!!!\n",
    "# Faça todo o seu código (e também os comentários) nesta célula!\n",
    "\n",
    "\n",
    "from sklearn.linear_model import LogisticRegression\n",
    "from sklearn.feature_extraction.text import CountVectorizer\n",
    "from sklearn.model_selection import train_test_split\n",
    "from sklearn.metrics import accuracy_score, recall_score, precision_score, f1_score\n",
    "\n",
    "# descobrindo qual a proporção de positivos:\n",
    "df['positivo'].value_counts()\n",
    "\n",
    "# resultado: 64.7% Positivo\n",
    "# True     26530\n",
    "# False    14447\n",
    "\n",
    "# etapa de balancear proporção de positivos/negativos:\n",
    "dfa = df[df[\"positivo\"]].head(14447)\n",
    "dfb = df[df[\"positivo\"] == False]\n",
    "\n",
    "dfc = pd.concat([dfa,dfb])\n",
    "dfc['positivo'].value_counts()\n",
    "\n",
    "# resultado 50% Positivo\n",
    "# True     14447\n",
    "# False    14447\n",
    "\n",
    "vectorizer = CountVectorizer(\n",
    "  min_df=10, # filtro de regularização para excluir palavras que aparecem em ao menos de 10 documentos\n",
    "  max_df=0.8, # filtro de regularização para excluir palavras que aparecem em mais de 80% dos documentos\n",
    ") # classe do sklearn que gera um vetor (documentos X palavras) = bag-of-words\n",
    "\n",
    "X = vectorizer.fit_transform(dfc[\"review_comment_message\"]) \n",
    "\n",
    "X_train, X_test, y_train, y_test = train_test_split(X, dfc['positivo'], test_size=0.2)\n",
    "\n",
    "model = LogisticRegression() \n",
    "model.fit(X_train, y_train)\n",
    "\n",
    "y_pred = model.predict(X_test) \n",
    "\n",
    "# metrica utilizada foi comparar a acuracia do resultado do modelo com a classificação real vinda do dataset.\n",
    "accuracy = accuracy_score(y_test, y_pred) \n",
    "accuracy\n",
    "\n",
    "# recall = recall_score(y_test, y_pred, average='macro')\n",
    "# precision = precision_score(y_test, y_pred, average='macro')\n",
    "# f1 = f1_score(y_test, y_pred, average='macro')\n",
    "\n",
    "# print(f'Recall: {recall}')\n",
    "# print(f'Precision: {precision}')\n",
    "# print(f'F1: {f1:.2f}')\n",
    "\n",
    "# Accuracy do modelo foi 0.89. Um resultado muito acima do caso base, 0.5. Logo, o modelo não está enviezado \n",
    "# em responder sempre positivo, por exemplo. \n",
    "# Dessa forma, é possivel concluir que o BagOfWords foi capaz de prever os reviews baseados em suas palavras."
   ]
  },
  {
   "cell_type": "markdown",
   "metadata": {},
   "source": [
    "## Exercício 2\n",
    "\n",
    "Analise seu modelo e encontre quais são as palavras e/ou n-gramas que são melhores preditoras do número de estrelas (alto ou baixo) recebido um review (dica: você pode usar `pipeline[:-1].get_feature_names_out()` para encontrar uma lista com todos os tokens do seu vocabulário). Ao usar elementos do sklearn, use um comentário no código para explicar o que esses elementos significam e como eles podem apontar para o poder preditivo de cada palavra (ou n-grama). Por fim, use comentários no código para explicar como suas descobertas corroboram, contradizem, ou relativizam o que foi proposto pelo LLM."
   ]
  },
  {
   "cell_type": "code",
   "execution_count": 43,
   "metadata": {},
   "outputs": [
    {
     "data": {
      "text/plain": [
       "array([-1.11060888, -0.02764377, -0.41029993, ...,  1.38573787,\n",
       "       -0.25387825, -0.76816453], shape=(2035,))"
      ]
     },
     "execution_count": 43,
     "metadata": {},
     "output_type": "execute_result"
    }
   ],
   "source": [
    "model.coef_[0]"
   ]
  },
  {
   "cell_type": "code",
   "execution_count": null,
   "metadata": {},
   "outputs": [
    {
     "name": "stdout",
     "output_type": "stream",
     "text": [
      "positivo\n",
      "False    143\n",
      "True       3\n",
      "Name: count, dtype: int64\n",
      "positivo\n",
      "True     574\n",
      "False     26\n",
      "Name: count, dtype: int64\n"
     ]
    }
   ],
   "source": [
    "#exercicio2\n",
    "#não apague o comentário acima!!!\n",
    "#Faça todo o seu código (e também os comentários) nesta célula!\n",
    "\n",
    "# a partir do modelo definido no exercício anterior\n",
    "\n",
    "words = vectorizer.get_feature_names_out() # extração dos nomes das features, ou seja, cada palavra\n",
    "words_coefficients = model.coef_[0] # extração do coeficiente, ou seja, o peso da palavra na classificação \n",
    "\n",
    "feature_importance = pd.DataFrame({'feature': words, 'coefficient': words_coefficients}) # junção entre nome e coeficiente\n",
    "feature_importance = feature_importance.sort_values(by='coefficient', ascending=False) # ordernação decrescente\n",
    "\n",
    "positive_words = feature_importance.head(20) # extração das palavras positivas com maior importancia\n",
    "# Palavras positivas de destaque: ['excelente','amei','otimo','ótimo','adorei','testei','surpreendeu','sofá','maravilhoso','show','ótima','parabéns','adorou','rápida','perfeito','satisfeito','beleza','top','ideal','interessante']\n",
    "\n",
    "negative_words = feature_importance.tail(10) # extração das palavras negativas com maior importancia\n",
    "# Palavras negativas de destaque: péssima, demorada, longo, péssimo, ruim, quebrado, demora, inferior, unidade, baixa\n",
    "\n",
    "# Verificando a presença da palavra mais significativa em relação a classifição do review\n",
    "print(dfc[dfc[\"review_comment_message\"].str.contains(\"péssima\")][\"positivo\"].value_counts())\n",
    "print(dfc[dfc[\"review_comment_message\"].str.contains(\"excelente\")][\"positivo\"].value_counts())\n",
    "# palavras tem correlação alta com resultado da classificação\n",
    "\n",
    "\n",
    "# para analisar a resposta da LLM acerca dos reviews vamos relembrar o que foi dito:\n",
    "# *   **Elogios:** Entrega rápida/no prazo e boa qualidade do produto são os pontos fortes.\n",
    "# *   **Reclamações:** Problemas com a entrega (não recebimento, atraso) e produtos com defeito/qualidade inferior são os principais pontos fracos.\n",
    "\n",
    "# Dentro da coletanea de palavras mais positivas de maior peso na classificação temos por exemplo: \n",
    "# (excelente, ótimo, perfeito) correspondentes a avaliação do produto.\n",
    "# (rápida) correspondende a velocidade da entrega.\n",
    "\n",
    "# Em relação as palavras negativas tivemos: \n",
    "# (demorada, longo, demora) referente a entrega.\n",
    "# (pessimo, quebrado, inferior). criticando a qualidade dos produtos\n",
    "\n",
    "# Dessa forma é possivel concluir que o LLM extraiu de forma correta as análises sobre os reviews. Minhas descobertas corroboram com o LLM.\n",
    "\n",
    "\n",
    "\n",
    "# list(negative_words[\"feature\"])"
   ]
  },
  {
   "cell_type": "markdown",
   "metadata": {},
   "source": [
    "# Rubricas e auto-avaliação assistida por IA\n",
    "\n",
    "Este teste tem duas questões. Porém, são questões bastante complexas. Para verificar se você não esqueceu de nada em nenhuma questão, você pode usar o script `autoavaliacao.py`.\n",
    "\n",
    "Cada um dos ítens cumpridos corretamente nas rubricas disponíveis em `autoavaliacao.py` terão o mesmo valor nas questões (1/8 na questão 1, 1/4 na questão 2). Um ítem cumprido parcialmente vale metade dos pontos. Um ítem feito errado não vale pontos. Cada uma das questões tem o mesmo valor (50% do total).\n",
    "\n",
    "**IMPORTANTE**: o fato de o LLM dizer que um ítem da rubrica foi cumprido, não significa que ele **realmente** foi cumprido. O LLM avalia apenas se o ítem **existe**. O LLM é uma **ferramenta** e a sua utilidade depende do **seu** julgamento crítico.\n",
    "\n",
    "Após o término da prova, salve seu notebook e entregue no Blackboard."
   ]
  },
  {
   "cell_type": "markdown",
   "metadata": {},
   "source": [
    "## Avaliação da prova\n",
    "\n",
    "Se desejar, comente os pontos abaixo:\n",
    "\n",
    "**Experiência da prova**: ao fazer esta prova, me senti...\n",
    "\n",
    "**Dificuldades técnicas ou de compreensão do enunciado**: ...\n",
    "\n",
    "**O script de auto-avaliação me ajudou**: sim, não, em partes...?"
   ]
  },
  {
   "cell_type": "code",
   "execution_count": null,
   "metadata": {},
   "outputs": [],
   "source": []
  }
 ],
 "metadata": {
  "kernelspec": {
   "display_name": "env",
   "language": "python",
   "name": "python3"
  },
  "language_info": {
   "codemirror_mode": {
    "name": "ipython",
    "version": 3
   },
   "file_extension": ".py",
   "mimetype": "text/x-python",
   "name": "python",
   "nbconvert_exporter": "python",
   "pygments_lexer": "ipython3",
   "version": "3.12.0"
  }
 },
 "nbformat": 4,
 "nbformat_minor": 2
}
